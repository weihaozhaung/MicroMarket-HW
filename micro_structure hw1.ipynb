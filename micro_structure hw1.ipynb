{
 "cells": [
  {
   "cell_type": "code",
   "execution_count": 1,
   "metadata": {},
   "outputs": [
    {
     "name": "stdout",
     "output_type": "stream",
     "text": [
      "Once deleted, variables cannot be recovered. Proceed (y/[n])? y\n"
     ]
    }
   ],
   "source": [
    "%reset"
   ]
  },
  {
   "cell_type": "code",
   "execution_count": 2,
   "metadata": {},
   "outputs": [],
   "source": [
    "import pandas as pd\n",
    "import numpy as np\n",
    "import os\n",
    "import datetime"
   ]
  },
  {
   "cell_type": "code",
   "execution_count": 3,
   "metadata": {},
   "outputs": [],
   "source": [
    "dirlist=os.listdir()"
   ]
  },
  {
   "cell_type": "code",
   "execution_count": 4,
   "metadata": {},
   "outputs": [],
   "source": [
    "for i in np.arange(1,7):\n",
    "     exec(f'Data_{dirlist[i][0:4]}=pd.read_excel(str({dirlist[i][0:4]})+\".xlsx\")')"
   ]
  },
  {
   "cell_type": "code",
   "execution_count": 5,
   "metadata": {},
   "outputs": [
    {
     "name": "stdout",
     "output_type": "stream",
     "text": [
      "Variable    Type         Data/Info\n",
      "----------------------------------\n",
      "Data_2314   DataFrame                 日期        時間<...>n[2430 rows x 18 columns]\n",
      "Data_2332   DataFrame                 日期        時間<...>n[2430 rows x 18 columns]\n",
      "Data_2345   DataFrame                 日期        時間<...>n[2430 rows x 18 columns]\n",
      "Data_2450   DataFrame                         日期時間<...>[16470 rows x 18 columns]\n",
      "Data_3045   DataFrame                 日期        時間<...>n[2430 rows x 18 columns]\n",
      "Data_3596   DataFrame                         日期時間<...>[16470 rows x 18 columns]\n",
      "datetime    module       <module 'datetime' from '<...>onda3\\\\lib\\\\datetime.py'>\n",
      "dirlist     list         n=35\n",
      "i           int32        6\n",
      "np          module       <module 'numpy' from 'C:\\<...>ges\\\\numpy\\\\__init__.py'>\n",
      "os          module       <module 'os' from 'C:\\\\Us<...>\\\\Anaconda3\\\\lib\\\\os.py'>\n",
      "pd          module       <module 'pandas' from 'C:<...>es\\\\pandas\\\\__init__.py'>\n"
     ]
    }
   ],
   "source": [
    "%whos"
   ]
  },
  {
   "cell_type": "code",
   "execution_count": 6,
   "metadata": {},
   "outputs": [],
   "source": [
    "superdata=['Data_2314','Data_2332','Data_2345','Data_3045']"
   ]
  },
  {
   "cell_type": "code",
   "execution_count": 7,
   "metadata": {
    "scrolled": true
   },
   "outputs": [],
   "source": [
    "stratdata=['Data_2450','Data_3596']"
   ]
  },
  {
   "cell_type": "code",
   "execution_count": 8,
   "metadata": {},
   "outputs": [],
   "source": [
    "for ix in superdata:\n",
    "    exec(f'{ix}[\"日期\"]=[i.date() for i in {ix}[\"日期\"]]')\n",
    "    exec(f\"{ix} ={ix}[['日期','時間','收盤價','成交量']]\")"
   ]
  },
  {
   "cell_type": "code",
   "execution_count": 9,
   "metadata": {},
   "outputs": [],
   "source": [
    "for iy in stratdata:\n",
    "    exec(f'{iy}[\"日期\"]=[i.date() for i in {iy}[\"日期時間\"]]')\n",
    "    exec(f'{iy}[\"時間\"]=[i.time() for i in {iy}[\"日期時間\"]]')\n",
    "    exec(f'{iy}[\"收盤價\"]=[i for i in {iy}[\"收盤\"]]')\n",
    "    exec(f\"{iy} ={iy}[['日期','時間','收盤價','成交量']]\")"
   ]
  },
  {
   "cell_type": "code",
   "execution_count": 10,
   "metadata": {
    "scrolled": true
   },
   "outputs": [],
   "source": [
    "for i in np.arange(1,7):\n",
    "     exec(f'Data_{dirlist[i][0:4]}[\"公司\"]=str({dirlist[i][0:4]})')"
   ]
  },
  {
   "cell_type": "code",
   "execution_count": null,
   "metadata": {},
   "outputs": [],
   "source": []
  },
  {
   "cell_type": "code",
   "execution_count": 12,
   "metadata": {},
   "outputs": [],
   "source": [
    "Data=pd.DataFrame()\n",
    "for i in np.arange(1,7):\n",
    "    exec(f'Data=Data.append(Data_{dirlist[i][0:4]}, ignore_index=True)')"
   ]
  },
  {
   "cell_type": "code",
   "execution_count": 13,
   "metadata": {},
   "outputs": [],
   "source": [
    "Data=Data.sort_values(by=['日期','時間'])"
   ]
  },
  {
   "cell_type": "code",
   "execution_count": 14,
   "metadata": {
    "scrolled": true
   },
   "outputs": [],
   "source": [
    "Data=Data[Data['日期']>=datetime.date(2019, 9, 19)]"
   ]
  },
  {
   "cell_type": "code",
   "execution_count": 15,
   "metadata": {},
   "outputs": [],
   "source": [
    "pd.DataFrame.to_csv(Data,\"hw1_Data.csv\",encoding='CP950',index=False)"
   ]
  },
  {
   "cell_type": "code",
   "execution_count": 16,
   "metadata": {},
   "outputs": [],
   "source": [
    "Data['5_min_group'] = [(i.hour-9)*12+((i.minute)//5) for i in Data['時間']]"
   ]
  },
  {
   "cell_type": "code",
   "execution_count": 17,
   "metadata": {},
   "outputs": [],
   "source": [
    "def tminvl_fix(x):\n",
    "    if x==54:\n",
    "        y=53\n",
    "    else :\n",
    "        y=x\n",
    "    return(y)"
   ]
  },
  {
   "cell_type": "code",
   "execution_count": 18,
   "metadata": {},
   "outputs": [],
   "source": [
    "Data['5_min_group']=[tminvl_fix(i)+1 for i in Data['5_min_group']]"
   ]
  },
  {
   "cell_type": "code",
   "execution_count": 19,
   "metadata": {},
   "outputs": [],
   "source": [
    "import math"
   ]
  },
  {
   "cell_type": "code",
   "execution_count": 20,
   "metadata": {},
   "outputs": [],
   "source": [
    "Data['logP']=[math.log(i) for i in Data['收盤價']]\n",
    "Data['LogReturn']=Data.groupby(['公司','日期'])['logP'].diff()\n",
    "Data['交易額']=Data['成交量']*Data['收盤價']\n",
    "Data['價差']=Data.groupby(['公司','日期'])['收盤價'].diff()\n",
    "Data['報酬率']=np.exp(Data['LogReturn'])-1"
   ]
  },
  {
   "cell_type": "code",
   "execution_count": 21,
   "metadata": {},
   "outputs": [],
   "source": [
    "Data=Data.drop_duplicates()"
   ]
  },
  {
   "cell_type": "code",
   "execution_count": 22,
   "metadata": {},
   "outputs": [],
   "source": [
    "Data_na=Data.dropna()"
   ]
  },
  {
   "cell_type": "code",
   "execution_count": 23,
   "metadata": {},
   "outputs": [
    {
     "name": "stderr",
     "output_type": "stream",
     "text": [
      "C:\\Users\\USER\\Anaconda3\\lib\\site-packages\\ipykernel_launcher.py:1: SettingWithCopyWarning: \n",
      "A value is trying to be set on a copy of a slice from a DataFrame.\n",
      "Try using .loc[row_indexer,col_indexer] = value instead\n",
      "\n",
      "See the caveats in the documentation: http://pandas.pydata.org/pandas-docs/stable/indexing.html#indexing-view-versus-copy\n",
      "  \"\"\"Entry point for launching an IPython kernel.\n",
      "C:\\Users\\USER\\Anaconda3\\lib\\site-packages\\ipykernel_launcher.py:2: SettingWithCopyWarning: \n",
      "A value is trying to be set on a copy of a slice from a DataFrame.\n",
      "Try using .loc[row_indexer,col_indexer] = value instead\n",
      "\n",
      "See the caveats in the documentation: http://pandas.pydata.org/pandas-docs/stable/indexing.html#indexing-view-versus-copy\n",
      "  \n",
      "C:\\Users\\USER\\Anaconda3\\lib\\site-packages\\ipykernel_launcher.py:4: SettingWithCopyWarning: \n",
      "A value is trying to be set on a copy of a slice from a DataFrame.\n",
      "Try using .loc[row_indexer,col_indexer] = value instead\n",
      "\n",
      "See the caveats in the documentation: http://pandas.pydata.org/pandas-docs/stable/indexing.html#indexing-view-versus-copy\n",
      "  after removing the cwd from sys.path.\n",
      "C:\\Users\\USER\\Anaconda3\\lib\\site-packages\\ipykernel_launcher.py:5: SettingWithCopyWarning: \n",
      "A value is trying to be set on a copy of a slice from a DataFrame.\n",
      "Try using .loc[row_indexer,col_indexer] = value instead\n",
      "\n",
      "See the caveats in the documentation: http://pandas.pydata.org/pandas-docs/stable/indexing.html#indexing-view-versus-copy\n",
      "  \"\"\"\n"
     ]
    }
   ],
   "source": [
    "Data_na['com_day_vol']=Data_na.groupby(['公司','日期'])['成交量'].transform(lambda x : sum(x))\n",
    "Data_na['Itvl_trsf_vol']=Data_na['成交量']/Data_na['com_day_vol']\n",
    "\n",
    "Data_na['com_day_dvol']=Data_na.groupby(['公司','日期'])['交易額'].transform(lambda x : sum(x))\n",
    "Data_na['Itvl_trsf_dvol']=Data_na['交易額']/Data_na['com_day_dvol']"
   ]
  },
  {
   "cell_type": "code",
   "execution_count": 24,
   "metadata": {},
   "outputs": [],
   "source": [
    "Data_ans=pd.DataFrame({\"LogReturn\":Data_na.groupby(['公司','5_min_group'])['LogReturn'].sum()/Data_na['日期'].nunique(),\n",
    "                       \"Return_std\":Data_na.groupby(['公司','5_min_group'])['報酬率'].std()/Data_na['日期'].nunique(),\n",
    "                       \"Volume\":Data_na.groupby(['公司','5_min_group'])['Itvl_trsf_vol'].sum(),\n",
    "                       \"dVolume\":Data_na.groupby(['公司','5_min_group'])['Itvl_trsf_dvol'].sum()\n",
    "                      })"
   ]
  },
  {
   "cell_type": "code",
   "execution_count": 25,
   "metadata": {},
   "outputs": [],
   "source": [
    "Data_ans['報酬率']=[math.exp(i)-1 for i in Data_ans['LogReturn']]"
   ]
  },
  {
   "cell_type": "code",
   "execution_count": null,
   "metadata": {},
   "outputs": [],
   "source": []
  },
  {
   "cell_type": "code",
   "execution_count": 26,
   "metadata": {},
   "outputs": [],
   "source": [
    "Data_ans['Amihud']=Data_ans['報酬率'].abs()/Data_ans['dVolume']\n",
    "#盤中不交易零股 所以交易量為千股"
   ]
  },
  {
   "cell_type": "code",
   "execution_count": 27,
   "metadata": {},
   "outputs": [],
   "source": [
    "pd.DataFrame.to_csv(Data_ans,\"each_code_ans.csv\",encoding='CP950',index=False)"
   ]
  },
  {
   "cell_type": "code",
   "execution_count": 28,
   "metadata": {},
   "outputs": [],
   "source": [
    "pltdata=pd.DataFrame({'itvlRet':Data_ans.groupby(['5_min_group'])['報酬率'].mean(),\n",
    "                      \"Return_std\":Data_ans.groupby(['5_min_group'])['Return_std'].mean(),\n",
    "                      \"dVol\":Data_ans.groupby(['5_min_group'])['dVolume'].mean(),\n",
    "                      \"Vol\":Data_ans.groupby(['5_min_group'])['Volume'].mean(),\n",
    "                      \"Amihud\":Data_ans.groupby(['5_min_group'])['Amihud'].mean()})"
   ]
  },
  {
   "cell_type": "code",
   "execution_count": 29,
   "metadata": {},
   "outputs": [
    {
     "data": {
      "text/html": [
       "<div>\n",
       "<style scoped>\n",
       "    .dataframe tbody tr th:only-of-type {\n",
       "        vertical-align: middle;\n",
       "    }\n",
       "\n",
       "    .dataframe tbody tr th {\n",
       "        vertical-align: top;\n",
       "    }\n",
       "\n",
       "    .dataframe thead th {\n",
       "        text-align: right;\n",
       "    }\n",
       "</style>\n",
       "<table border=\"1\" class=\"dataframe\">\n",
       "  <thead>\n",
       "    <tr style=\"text-align: right;\">\n",
       "      <th></th>\n",
       "      <th>itvlRet</th>\n",
       "      <th>Return_std</th>\n",
       "      <th>dVol</th>\n",
       "      <th>Vol</th>\n",
       "      <th>Amihud</th>\n",
       "    </tr>\n",
       "    <tr>\n",
       "      <th>5_min_group</th>\n",
       "      <th></th>\n",
       "      <th></th>\n",
       "      <th></th>\n",
       "      <th></th>\n",
       "      <th></th>\n",
       "    </tr>\n",
       "  </thead>\n",
       "  <tbody>\n",
       "    <tr>\n",
       "      <th>1</th>\n",
       "      <td>0.000215</td>\n",
       "      <td>0.000238</td>\n",
       "      <td>0.231539</td>\n",
       "      <td>0.230855</td>\n",
       "      <td>0.004855</td>\n",
       "    </tr>\n",
       "    <tr>\n",
       "      <th>2</th>\n",
       "      <td>0.000209</td>\n",
       "      <td>0.000232</td>\n",
       "      <td>0.285527</td>\n",
       "      <td>0.284463</td>\n",
       "      <td>0.004480</td>\n",
       "    </tr>\n",
       "    <tr>\n",
       "      <th>3</th>\n",
       "      <td>0.000281</td>\n",
       "      <td>0.000200</td>\n",
       "      <td>0.216244</td>\n",
       "      <td>0.215700</td>\n",
       "      <td>0.002811</td>\n",
       "    </tr>\n",
       "    <tr>\n",
       "      <th>4</th>\n",
       "      <td>0.000824</td>\n",
       "      <td>0.000222</td>\n",
       "      <td>0.258112</td>\n",
       "      <td>0.257333</td>\n",
       "      <td>0.004097</td>\n",
       "    </tr>\n",
       "    <tr>\n",
       "      <th>5</th>\n",
       "      <td>0.000167</td>\n",
       "      <td>0.000236</td>\n",
       "      <td>0.284568</td>\n",
       "      <td>0.283398</td>\n",
       "      <td>0.001521</td>\n",
       "    </tr>\n",
       "    <tr>\n",
       "      <th>6</th>\n",
       "      <td>-0.000038</td>\n",
       "      <td>0.000195</td>\n",
       "      <td>0.228882</td>\n",
       "      <td>0.227599</td>\n",
       "      <td>0.001630</td>\n",
       "    </tr>\n",
       "    <tr>\n",
       "      <th>7</th>\n",
       "      <td>-0.000187</td>\n",
       "      <td>0.000184</td>\n",
       "      <td>0.257200</td>\n",
       "      <td>0.256472</td>\n",
       "      <td>0.004670</td>\n",
       "    </tr>\n",
       "    <tr>\n",
       "      <th>8</th>\n",
       "      <td>-0.000162</td>\n",
       "      <td>0.000156</td>\n",
       "      <td>0.180599</td>\n",
       "      <td>0.180129</td>\n",
       "      <td>0.004754</td>\n",
       "    </tr>\n",
       "    <tr>\n",
       "      <th>9</th>\n",
       "      <td>-0.000521</td>\n",
       "      <td>0.000180</td>\n",
       "      <td>0.228653</td>\n",
       "      <td>0.228198</td>\n",
       "      <td>0.001719</td>\n",
       "    </tr>\n",
       "    <tr>\n",
       "      <th>10</th>\n",
       "      <td>-0.000560</td>\n",
       "      <td>0.000169</td>\n",
       "      <td>0.132124</td>\n",
       "      <td>0.131876</td>\n",
       "      <td>0.004560</td>\n",
       "    </tr>\n",
       "    <tr>\n",
       "      <th>11</th>\n",
       "      <td>-0.000075</td>\n",
       "      <td>0.000170</td>\n",
       "      <td>0.150074</td>\n",
       "      <td>0.149888</td>\n",
       "      <td>0.005981</td>\n",
       "    </tr>\n",
       "    <tr>\n",
       "      <th>12</th>\n",
       "      <td>-0.000833</td>\n",
       "      <td>0.000189</td>\n",
       "      <td>0.195477</td>\n",
       "      <td>0.195655</td>\n",
       "      <td>0.005229</td>\n",
       "    </tr>\n",
       "    <tr>\n",
       "      <th>13</th>\n",
       "      <td>-0.000107</td>\n",
       "      <td>0.000148</td>\n",
       "      <td>0.171767</td>\n",
       "      <td>0.171773</td>\n",
       "      <td>0.003972</td>\n",
       "    </tr>\n",
       "    <tr>\n",
       "      <th>14</th>\n",
       "      <td>-0.000553</td>\n",
       "      <td>0.000156</td>\n",
       "      <td>0.110322</td>\n",
       "      <td>0.110418</td>\n",
       "      <td>0.007044</td>\n",
       "    </tr>\n",
       "    <tr>\n",
       "      <th>15</th>\n",
       "      <td>-0.000298</td>\n",
       "      <td>0.000159</td>\n",
       "      <td>0.145660</td>\n",
       "      <td>0.145668</td>\n",
       "      <td>0.002957</td>\n",
       "    </tr>\n",
       "    <tr>\n",
       "      <th>16</th>\n",
       "      <td>0.000509</td>\n",
       "      <td>0.000160</td>\n",
       "      <td>0.132107</td>\n",
       "      <td>0.132195</td>\n",
       "      <td>0.005087</td>\n",
       "    </tr>\n",
       "    <tr>\n",
       "      <th>17</th>\n",
       "      <td>-0.000489</td>\n",
       "      <td>0.000159</td>\n",
       "      <td>0.147150</td>\n",
       "      <td>0.147228</td>\n",
       "      <td>0.009335</td>\n",
       "    </tr>\n",
       "    <tr>\n",
       "      <th>18</th>\n",
       "      <td>-0.000095</td>\n",
       "      <td>0.000169</td>\n",
       "      <td>0.124640</td>\n",
       "      <td>0.124696</td>\n",
       "      <td>0.005138</td>\n",
       "    </tr>\n",
       "    <tr>\n",
       "      <th>19</th>\n",
       "      <td>-0.000077</td>\n",
       "      <td>0.000163</td>\n",
       "      <td>0.152292</td>\n",
       "      <td>0.152215</td>\n",
       "      <td>0.001550</td>\n",
       "    </tr>\n",
       "    <tr>\n",
       "      <th>20</th>\n",
       "      <td>0.000148</td>\n",
       "      <td>0.000163</td>\n",
       "      <td>0.146746</td>\n",
       "      <td>0.146795</td>\n",
       "      <td>0.002462</td>\n",
       "    </tr>\n",
       "    <tr>\n",
       "      <th>21</th>\n",
       "      <td>-0.000413</td>\n",
       "      <td>0.000133</td>\n",
       "      <td>0.093222</td>\n",
       "      <td>0.093269</td>\n",
       "      <td>0.004893</td>\n",
       "    </tr>\n",
       "    <tr>\n",
       "      <th>22</th>\n",
       "      <td>-0.000417</td>\n",
       "      <td>0.000153</td>\n",
       "      <td>0.144587</td>\n",
       "      <td>0.144753</td>\n",
       "      <td>0.004533</td>\n",
       "    </tr>\n",
       "    <tr>\n",
       "      <th>23</th>\n",
       "      <td>0.000337</td>\n",
       "      <td>0.000155</td>\n",
       "      <td>0.102252</td>\n",
       "      <td>0.102335</td>\n",
       "      <td>0.007192</td>\n",
       "    </tr>\n",
       "    <tr>\n",
       "      <th>24</th>\n",
       "      <td>-0.000100</td>\n",
       "      <td>0.000155</td>\n",
       "      <td>0.107084</td>\n",
       "      <td>0.107285</td>\n",
       "      <td>0.003618</td>\n",
       "    </tr>\n",
       "    <tr>\n",
       "      <th>25</th>\n",
       "      <td>-0.000015</td>\n",
       "      <td>0.000150</td>\n",
       "      <td>0.080475</td>\n",
       "      <td>0.080588</td>\n",
       "      <td>0.002703</td>\n",
       "    </tr>\n",
       "    <tr>\n",
       "      <th>26</th>\n",
       "      <td>-0.000473</td>\n",
       "      <td>0.000132</td>\n",
       "      <td>0.104482</td>\n",
       "      <td>0.104668</td>\n",
       "      <td>0.006159</td>\n",
       "    </tr>\n",
       "    <tr>\n",
       "      <th>27</th>\n",
       "      <td>0.000244</td>\n",
       "      <td>0.000150</td>\n",
       "      <td>0.124278</td>\n",
       "      <td>0.124360</td>\n",
       "      <td>0.008606</td>\n",
       "    </tr>\n",
       "    <tr>\n",
       "      <th>28</th>\n",
       "      <td>-0.000243</td>\n",
       "      <td>0.000157</td>\n",
       "      <td>0.074186</td>\n",
       "      <td>0.074346</td>\n",
       "      <td>0.008261</td>\n",
       "    </tr>\n",
       "    <tr>\n",
       "      <th>29</th>\n",
       "      <td>0.000056</td>\n",
       "      <td>0.000137</td>\n",
       "      <td>0.067619</td>\n",
       "      <td>0.067696</td>\n",
       "      <td>0.006284</td>\n",
       "    </tr>\n",
       "    <tr>\n",
       "      <th>30</th>\n",
       "      <td>-0.000182</td>\n",
       "      <td>0.000141</td>\n",
       "      <td>0.114837</td>\n",
       "      <td>0.115069</td>\n",
       "      <td>0.005231</td>\n",
       "    </tr>\n",
       "    <tr>\n",
       "      <th>31</th>\n",
       "      <td>-0.000073</td>\n",
       "      <td>0.000152</td>\n",
       "      <td>0.132925</td>\n",
       "      <td>0.133166</td>\n",
       "      <td>0.001807</td>\n",
       "    </tr>\n",
       "    <tr>\n",
       "      <th>32</th>\n",
       "      <td>-0.000516</td>\n",
       "      <td>0.000140</td>\n",
       "      <td>0.093493</td>\n",
       "      <td>0.093722</td>\n",
       "      <td>0.005285</td>\n",
       "    </tr>\n",
       "    <tr>\n",
       "      <th>33</th>\n",
       "      <td>0.000214</td>\n",
       "      <td>0.000166</td>\n",
       "      <td>0.098714</td>\n",
       "      <td>0.099214</td>\n",
       "      <td>0.005829</td>\n",
       "    </tr>\n",
       "    <tr>\n",
       "      <th>34</th>\n",
       "      <td>-0.000452</td>\n",
       "      <td>0.000131</td>\n",
       "      <td>0.097614</td>\n",
       "      <td>0.097891</td>\n",
       "      <td>0.010818</td>\n",
       "    </tr>\n",
       "    <tr>\n",
       "      <th>35</th>\n",
       "      <td>0.000204</td>\n",
       "      <td>0.000142</td>\n",
       "      <td>0.140364</td>\n",
       "      <td>0.140693</td>\n",
       "      <td>0.010107</td>\n",
       "    </tr>\n",
       "    <tr>\n",
       "      <th>36</th>\n",
       "      <td>-0.000084</td>\n",
       "      <td>0.000137</td>\n",
       "      <td>0.114824</td>\n",
       "      <td>0.115069</td>\n",
       "      <td>0.007141</td>\n",
       "    </tr>\n",
       "    <tr>\n",
       "      <th>37</th>\n",
       "      <td>0.000401</td>\n",
       "      <td>0.000152</td>\n",
       "      <td>0.084447</td>\n",
       "      <td>0.084644</td>\n",
       "      <td>0.006126</td>\n",
       "    </tr>\n",
       "    <tr>\n",
       "      <th>38</th>\n",
       "      <td>-0.000448</td>\n",
       "      <td>0.000138</td>\n",
       "      <td>0.103100</td>\n",
       "      <td>0.103197</td>\n",
       "      <td>0.009408</td>\n",
       "    </tr>\n",
       "    <tr>\n",
       "      <th>39</th>\n",
       "      <td>0.000065</td>\n",
       "      <td>0.000156</td>\n",
       "      <td>0.099503</td>\n",
       "      <td>0.099719</td>\n",
       "      <td>0.006682</td>\n",
       "    </tr>\n",
       "    <tr>\n",
       "      <th>40</th>\n",
       "      <td>-0.000330</td>\n",
       "      <td>0.000134</td>\n",
       "      <td>0.106999</td>\n",
       "      <td>0.107237</td>\n",
       "      <td>0.007250</td>\n",
       "    </tr>\n",
       "    <tr>\n",
       "      <th>41</th>\n",
       "      <td>0.000489</td>\n",
       "      <td>0.000145</td>\n",
       "      <td>0.174852</td>\n",
       "      <td>0.175110</td>\n",
       "      <td>0.007309</td>\n",
       "    </tr>\n",
       "    <tr>\n",
       "      <th>42</th>\n",
       "      <td>-0.000067</td>\n",
       "      <td>0.000151</td>\n",
       "      <td>0.158415</td>\n",
       "      <td>0.158424</td>\n",
       "      <td>0.005251</td>\n",
       "    </tr>\n",
       "    <tr>\n",
       "      <th>43</th>\n",
       "      <td>0.000301</td>\n",
       "      <td>0.000153</td>\n",
       "      <td>0.119494</td>\n",
       "      <td>0.119464</td>\n",
       "      <td>0.007611</td>\n",
       "    </tr>\n",
       "    <tr>\n",
       "      <th>44</th>\n",
       "      <td>0.000085</td>\n",
       "      <td>0.000153</td>\n",
       "      <td>0.116426</td>\n",
       "      <td>0.116715</td>\n",
       "      <td>0.003767</td>\n",
       "    </tr>\n",
       "    <tr>\n",
       "      <th>45</th>\n",
       "      <td>-0.000282</td>\n",
       "      <td>0.000141</td>\n",
       "      <td>0.082473</td>\n",
       "      <td>0.082577</td>\n",
       "      <td>0.004841</td>\n",
       "    </tr>\n",
       "    <tr>\n",
       "      <th>46</th>\n",
       "      <td>0.000027</td>\n",
       "      <td>0.000143</td>\n",
       "      <td>0.138753</td>\n",
       "      <td>0.138851</td>\n",
       "      <td>0.004071</td>\n",
       "    </tr>\n",
       "    <tr>\n",
       "      <th>47</th>\n",
       "      <td>-0.000405</td>\n",
       "      <td>0.000171</td>\n",
       "      <td>0.153269</td>\n",
       "      <td>0.153665</td>\n",
       "      <td>0.003866</td>\n",
       "    </tr>\n",
       "    <tr>\n",
       "      <th>48</th>\n",
       "      <td>0.000253</td>\n",
       "      <td>0.000154</td>\n",
       "      <td>0.160237</td>\n",
       "      <td>0.160384</td>\n",
       "      <td>0.005165</td>\n",
       "    </tr>\n",
       "    <tr>\n",
       "      <th>49</th>\n",
       "      <td>0.000099</td>\n",
       "      <td>0.000169</td>\n",
       "      <td>0.162342</td>\n",
       "      <td>0.162529</td>\n",
       "      <td>0.005556</td>\n",
       "    </tr>\n",
       "    <tr>\n",
       "      <th>50</th>\n",
       "      <td>-0.000293</td>\n",
       "      <td>0.000159</td>\n",
       "      <td>0.178656</td>\n",
       "      <td>0.179144</td>\n",
       "      <td>0.003977</td>\n",
       "    </tr>\n",
       "    <tr>\n",
       "      <th>51</th>\n",
       "      <td>-0.000084</td>\n",
       "      <td>0.000164</td>\n",
       "      <td>0.181527</td>\n",
       "      <td>0.181798</td>\n",
       "      <td>0.003987</td>\n",
       "    </tr>\n",
       "    <tr>\n",
       "      <th>52</th>\n",
       "      <td>0.000175</td>\n",
       "      <td>0.000169</td>\n",
       "      <td>0.194528</td>\n",
       "      <td>0.195094</td>\n",
       "      <td>0.002387</td>\n",
       "    </tr>\n",
       "    <tr>\n",
       "      <th>53</th>\n",
       "      <td>0.000865</td>\n",
       "      <td>0.000217</td>\n",
       "      <td>0.335752</td>\n",
       "      <td>0.336385</td>\n",
       "      <td>0.003497</td>\n",
       "    </tr>\n",
       "    <tr>\n",
       "      <th>54</th>\n",
       "      <td>-0.000083</td>\n",
       "      <td>0.000183</td>\n",
       "      <td>0.978589</td>\n",
       "      <td>0.978385</td>\n",
       "      <td>0.001165</td>\n",
       "    </tr>\n",
       "  </tbody>\n",
       "</table>\n",
       "</div>"
      ],
      "text/plain": [
       "              itvlRet  Return_std      dVol       Vol    Amihud\n",
       "5_min_group                                                    \n",
       "1            0.000215    0.000238  0.231539  0.230855  0.004855\n",
       "2            0.000209    0.000232  0.285527  0.284463  0.004480\n",
       "3            0.000281    0.000200  0.216244  0.215700  0.002811\n",
       "4            0.000824    0.000222  0.258112  0.257333  0.004097\n",
       "5            0.000167    0.000236  0.284568  0.283398  0.001521\n",
       "6           -0.000038    0.000195  0.228882  0.227599  0.001630\n",
       "7           -0.000187    0.000184  0.257200  0.256472  0.004670\n",
       "8           -0.000162    0.000156  0.180599  0.180129  0.004754\n",
       "9           -0.000521    0.000180  0.228653  0.228198  0.001719\n",
       "10          -0.000560    0.000169  0.132124  0.131876  0.004560\n",
       "11          -0.000075    0.000170  0.150074  0.149888  0.005981\n",
       "12          -0.000833    0.000189  0.195477  0.195655  0.005229\n",
       "13          -0.000107    0.000148  0.171767  0.171773  0.003972\n",
       "14          -0.000553    0.000156  0.110322  0.110418  0.007044\n",
       "15          -0.000298    0.000159  0.145660  0.145668  0.002957\n",
       "16           0.000509    0.000160  0.132107  0.132195  0.005087\n",
       "17          -0.000489    0.000159  0.147150  0.147228  0.009335\n",
       "18          -0.000095    0.000169  0.124640  0.124696  0.005138\n",
       "19          -0.000077    0.000163  0.152292  0.152215  0.001550\n",
       "20           0.000148    0.000163  0.146746  0.146795  0.002462\n",
       "21          -0.000413    0.000133  0.093222  0.093269  0.004893\n",
       "22          -0.000417    0.000153  0.144587  0.144753  0.004533\n",
       "23           0.000337    0.000155  0.102252  0.102335  0.007192\n",
       "24          -0.000100    0.000155  0.107084  0.107285  0.003618\n",
       "25          -0.000015    0.000150  0.080475  0.080588  0.002703\n",
       "26          -0.000473    0.000132  0.104482  0.104668  0.006159\n",
       "27           0.000244    0.000150  0.124278  0.124360  0.008606\n",
       "28          -0.000243    0.000157  0.074186  0.074346  0.008261\n",
       "29           0.000056    0.000137  0.067619  0.067696  0.006284\n",
       "30          -0.000182    0.000141  0.114837  0.115069  0.005231\n",
       "31          -0.000073    0.000152  0.132925  0.133166  0.001807\n",
       "32          -0.000516    0.000140  0.093493  0.093722  0.005285\n",
       "33           0.000214    0.000166  0.098714  0.099214  0.005829\n",
       "34          -0.000452    0.000131  0.097614  0.097891  0.010818\n",
       "35           0.000204    0.000142  0.140364  0.140693  0.010107\n",
       "36          -0.000084    0.000137  0.114824  0.115069  0.007141\n",
       "37           0.000401    0.000152  0.084447  0.084644  0.006126\n",
       "38          -0.000448    0.000138  0.103100  0.103197  0.009408\n",
       "39           0.000065    0.000156  0.099503  0.099719  0.006682\n",
       "40          -0.000330    0.000134  0.106999  0.107237  0.007250\n",
       "41           0.000489    0.000145  0.174852  0.175110  0.007309\n",
       "42          -0.000067    0.000151  0.158415  0.158424  0.005251\n",
       "43           0.000301    0.000153  0.119494  0.119464  0.007611\n",
       "44           0.000085    0.000153  0.116426  0.116715  0.003767\n",
       "45          -0.000282    0.000141  0.082473  0.082577  0.004841\n",
       "46           0.000027    0.000143  0.138753  0.138851  0.004071\n",
       "47          -0.000405    0.000171  0.153269  0.153665  0.003866\n",
       "48           0.000253    0.000154  0.160237  0.160384  0.005165\n",
       "49           0.000099    0.000169  0.162342  0.162529  0.005556\n",
       "50          -0.000293    0.000159  0.178656  0.179144  0.003977\n",
       "51          -0.000084    0.000164  0.181527  0.181798  0.003987\n",
       "52           0.000175    0.000169  0.194528  0.195094  0.002387\n",
       "53           0.000865    0.000217  0.335752  0.336385  0.003497\n",
       "54          -0.000083    0.000183  0.978589  0.978385  0.001165"
      ]
     },
     "execution_count": 29,
     "metadata": {},
     "output_type": "execute_result"
    }
   ],
   "source": [
    "pltdata"
   ]
  },
  {
   "cell_type": "code",
   "execution_count": 30,
   "metadata": {},
   "outputs": [],
   "source": [
    "pltdata['itvllogR']=[math.log(i+1) for i in pltdata['itvlRet']]"
   ]
  },
  {
   "cell_type": "code",
   "execution_count": 31,
   "metadata": {},
   "outputs": [],
   "source": [
    "pltdata['cum_itvllogR']=pltdata['itvllogR'].cumsum()"
   ]
  },
  {
   "cell_type": "code",
   "execution_count": 32,
   "metadata": {},
   "outputs": [],
   "source": [
    "pltdata['均價走勢還原']=[math.exp(i)-1 for i in pltdata['cum_itvllogR']]"
   ]
  },
  {
   "cell_type": "code",
   "execution_count": 33,
   "metadata": {},
   "outputs": [],
   "source": [
    "pltdata['amihud']=pltdata['itvlRet'].abs()/pltdata['dVol']"
   ]
  },
  {
   "cell_type": "code",
   "execution_count": 34,
   "metadata": {},
   "outputs": [],
   "source": [
    "import matplotlib.pyplot as plt"
   ]
  },
  {
   "cell_type": "code",
   "execution_count": null,
   "metadata": {},
   "outputs": [],
   "source": []
  },
  {
   "cell_type": "code",
   "execution_count": 35,
   "metadata": {},
   "outputs": [
    {
     "data": {
      "image/png": "[encoded data removed]",
      "text/plain": [
       "<Figure size 432x288 with 1 Axes>"
      ]
     },
     "metadata": {
      "needs_background": "light"
     },
     "output_type": "display_data"
    }
   ],
   "source": [
    "x=pltdata.index\n",
    "y=pltdata['均價走勢還原']\n",
    "plt.plot(x,y) \n",
    "plt.xlabel(\"5-min interval\")\n",
    "plt.ylabel(\"Price movement\")\n",
    "plt.title(\"Intraday Price movement\")\n",
    "#plt.show()\n",
    "plt.legend('Price')\n",
    "plt.savefig(\"foo.png\",bbox_inches='tight')"
   ]
  },
  {
   "cell_type": "code",
   "execution_count": 36,
   "metadata": {},
   "outputs": [
    {
     "data": {
      "image/png": "[encoded data removed]",
      "text/plain": [
       "<Figure size 432x288 with 1 Axes>"
      ]
     },
     "metadata": {
      "needs_background": "light"
     },
     "output_type": "display_data"
    }
   ],
   "source": [
    "x=pltdata.index\n",
    "y=pltdata['itvllogR']\n",
    "plt.plot(x,y) \n",
    "plt.xlabel(\"5-min interval\")\n",
    "plt.ylabel(\"Return movement\")\n",
    "plt.title(\"Intraday Return movement\")\n",
    "#plt.show()\n",
    "plt.legend('Ret')\n",
    "plt.savefig(\"foo2.png\",bbox_inches='tight')"
   ]
  },
  {
   "cell_type": "code",
   "execution_count": 37,
   "metadata": {
    "scrolled": true
   },
   "outputs": [
    {
     "data": {
      "image/png": "[encoded data removed]",
      "text/plain": [
       "<Figure size 432x288 with 1 Axes>"
      ]
     },
     "metadata": {
      "needs_background": "light"
     },
     "output_type": "display_data"
    }
   ],
   "source": [
    "x=pltdata.index\n",
    "y=pltdata['Vol']\n",
    "plt.plot(x,y) \n",
    "plt.xlabel(\"5-min interval\")\n",
    "plt.ylabel(\"Volume \")\n",
    "plt.title(\"Intraday Volume\")\n",
    "plt.legend()#收盤有集中競價?\n",
    "#plt.show()\n",
    "plt.savefig(\"vol.png\",bbox_inches='tight')"
   ]
  },
  {
   "cell_type": "code",
   "execution_count": 38,
   "metadata": {},
   "outputs": [],
   "source": [
    "#Data_ans=Data_ans.reset_index(['5_min_group'])\n",
    "Data_ans=Data_ans.reset_index(['公司'])"
   ]
  },
  {
   "cell_type": "code",
   "execution_count": 39,
   "metadata": {
    "scrolled": true
   },
   "outputs": [
    {
     "ename": "KeyError",
     "evalue": "'5_min_group'",
     "output_type": "error",
     "traceback": [
      "\u001b[1;31m---------------------------------------------------------------------------\u001b[0m",
      "\u001b[1;31mKeyError\u001b[0m                                  Traceback (most recent call last)",
      "\u001b[1;32m~\\Anaconda3\\lib\\site-packages\\pandas\\core\\indexes\\base.py\u001b[0m in \u001b[0;36mget_loc\u001b[1;34m(self, key, method, tolerance)\u001b[0m\n\u001b[0;32m   3077\u001b[0m             \u001b[1;32mtry\u001b[0m\u001b[1;33m:\u001b[0m\u001b[1;33m\u001b[0m\u001b[1;33m\u001b[0m\u001b[0m\n\u001b[1;32m-> 3078\u001b[1;33m                 \u001b[1;32mreturn\u001b[0m \u001b[0mself\u001b[0m\u001b[1;33m.\u001b[0m\u001b[0m_engine\u001b[0m\u001b[1;33m.\u001b[0m\u001b[0mget_loc\u001b[0m\u001b[1;33m(\u001b[0m\u001b[0mkey\u001b[0m\u001b[1;33m)\u001b[0m\u001b[1;33m\u001b[0m\u001b[1;33m\u001b[0m\u001b[0m\n\u001b[0m\u001b[0;32m   3079\u001b[0m             \u001b[1;32mexcept\u001b[0m \u001b[0mKeyError\u001b[0m\u001b[1;33m:\u001b[0m\u001b[1;33m\u001b[0m\u001b[1;33m\u001b[0m\u001b[0m\n",
      "\u001b[1;32mpandas\\_libs\\index.pyx\u001b[0m in \u001b[0;36mpandas._libs.index.IndexEngine.get_loc\u001b[1;34m()\u001b[0m\n",
      "\u001b[1;32mpandas\\_libs\\index.pyx\u001b[0m in \u001b[0;36mpandas._libs.index.IndexEngine.get_loc\u001b[1;34m()\u001b[0m\n",
      "\u001b[1;32mpandas\\_libs\\hashtable_class_helper.pxi\u001b[0m in \u001b[0;36mpandas._libs.hashtable.PyObjectHashTable.get_item\u001b[1;34m()\u001b[0m\n",
      "\u001b[1;32mpandas\\_libs\\hashtable_class_helper.pxi\u001b[0m in \u001b[0;36mpandas._libs.hashtable.PyObjectHashTable.get_item\u001b[1;34m()\u001b[0m\n",
      "\u001b[1;31mKeyError\u001b[0m: '5_min_group'",
      "\nDuring handling of the above exception, another exception occurred:\n",
      "\u001b[1;31mKeyError\u001b[0m                                  Traceback (most recent call last)",
      "\u001b[1;32m<ipython-input-39-cf48ff7ff1d5>\u001b[0m in \u001b[0;36m<module>\u001b[1;34m\u001b[0m\n\u001b[1;32m----> 1\u001b[1;33m \u001b[0mData_ans\u001b[0m\u001b[1;33m[\u001b[0m\u001b[1;33m(\u001b[0m\u001b[0mData_ans\u001b[0m\u001b[1;33m[\u001b[0m\u001b[1;34m'5_min_group'\u001b[0m\u001b[1;33m]\u001b[0m\u001b[1;33m==\u001b[0m\u001b[1;36m54\u001b[0m\u001b[1;33m)\u001b[0m\u001b[1;33m&\u001b[0m\u001b[1;33m(\u001b[0m\u001b[0mData_ans\u001b[0m\u001b[1;33m[\u001b[0m\u001b[1;34m'公司'\u001b[0m\u001b[1;33m]\u001b[0m\u001b[1;33m==\u001b[0m\u001b[1;34m'3045'\u001b[0m\u001b[1;33m)\u001b[0m\u001b[1;33m]\u001b[0m\u001b[1;33m\u001b[0m\u001b[1;33m\u001b[0m\u001b[0m\n\u001b[0m",
      "\u001b[1;32m~\\Anaconda3\\lib\\site-packages\\pandas\\core\\frame.py\u001b[0m in \u001b[0;36m__getitem__\u001b[1;34m(self, key)\u001b[0m\n\u001b[0;32m   2686\u001b[0m             \u001b[1;32mreturn\u001b[0m \u001b[0mself\u001b[0m\u001b[1;33m.\u001b[0m\u001b[0m_getitem_multilevel\u001b[0m\u001b[1;33m(\u001b[0m\u001b[0mkey\u001b[0m\u001b[1;33m)\u001b[0m\u001b[1;33m\u001b[0m\u001b[1;33m\u001b[0m\u001b[0m\n\u001b[0;32m   2687\u001b[0m         \u001b[1;32melse\u001b[0m\u001b[1;33m:\u001b[0m\u001b[1;33m\u001b[0m\u001b[1;33m\u001b[0m\u001b[0m\n\u001b[1;32m-> 2688\u001b[1;33m             \u001b[1;32mreturn\u001b[0m \u001b[0mself\u001b[0m\u001b[1;33m.\u001b[0m\u001b[0m_getitem_column\u001b[0m\u001b[1;33m(\u001b[0m\u001b[0mkey\u001b[0m\u001b[1;33m)\u001b[0m\u001b[1;33m\u001b[0m\u001b[1;33m\u001b[0m\u001b[0m\n\u001b[0m\u001b[0;32m   2689\u001b[0m \u001b[1;33m\u001b[0m\u001b[0m\n\u001b[0;32m   2690\u001b[0m     \u001b[1;32mdef\u001b[0m \u001b[0m_getitem_column\u001b[0m\u001b[1;33m(\u001b[0m\u001b[0mself\u001b[0m\u001b[1;33m,\u001b[0m \u001b[0mkey\u001b[0m\u001b[1;33m)\u001b[0m\u001b[1;33m:\u001b[0m\u001b[1;33m\u001b[0m\u001b[1;33m\u001b[0m\u001b[0m\n",
      "\u001b[1;32m~\\Anaconda3\\lib\\site-packages\\pandas\\core\\frame.py\u001b[0m in \u001b[0;36m_getitem_column\u001b[1;34m(self, key)\u001b[0m\n\u001b[0;32m   2693\u001b[0m         \u001b[1;31m# get column\u001b[0m\u001b[1;33m\u001b[0m\u001b[1;33m\u001b[0m\u001b[1;33m\u001b[0m\u001b[0m\n\u001b[0;32m   2694\u001b[0m         \u001b[1;32mif\u001b[0m \u001b[0mself\u001b[0m\u001b[1;33m.\u001b[0m\u001b[0mcolumns\u001b[0m\u001b[1;33m.\u001b[0m\u001b[0mis_unique\u001b[0m\u001b[1;33m:\u001b[0m\u001b[1;33m\u001b[0m\u001b[1;33m\u001b[0m\u001b[0m\n\u001b[1;32m-> 2695\u001b[1;33m             \u001b[1;32mreturn\u001b[0m \u001b[0mself\u001b[0m\u001b[1;33m.\u001b[0m\u001b[0m_get_item_cache\u001b[0m\u001b[1;33m(\u001b[0m\u001b[0mkey\u001b[0m\u001b[1;33m)\u001b[0m\u001b[1;33m\u001b[0m\u001b[1;33m\u001b[0m\u001b[0m\n\u001b[0m\u001b[0;32m   2696\u001b[0m \u001b[1;33m\u001b[0m\u001b[0m\n\u001b[0;32m   2697\u001b[0m         \u001b[1;31m# duplicate columns & possible reduce dimensionality\u001b[0m\u001b[1;33m\u001b[0m\u001b[1;33m\u001b[0m\u001b[1;33m\u001b[0m\u001b[0m\n",
      "\u001b[1;32m~\\Anaconda3\\lib\\site-packages\\pandas\\core\\generic.py\u001b[0m in \u001b[0;36m_get_item_cache\u001b[1;34m(self, item)\u001b[0m\n\u001b[0;32m   2487\u001b[0m         \u001b[0mres\u001b[0m \u001b[1;33m=\u001b[0m \u001b[0mcache\u001b[0m\u001b[1;33m.\u001b[0m\u001b[0mget\u001b[0m\u001b[1;33m(\u001b[0m\u001b[0mitem\u001b[0m\u001b[1;33m)\u001b[0m\u001b[1;33m\u001b[0m\u001b[1;33m\u001b[0m\u001b[0m\n\u001b[0;32m   2488\u001b[0m         \u001b[1;32mif\u001b[0m \u001b[0mres\u001b[0m \u001b[1;32mis\u001b[0m \u001b[1;32mNone\u001b[0m\u001b[1;33m:\u001b[0m\u001b[1;33m\u001b[0m\u001b[1;33m\u001b[0m\u001b[0m\n\u001b[1;32m-> 2489\u001b[1;33m             \u001b[0mvalues\u001b[0m \u001b[1;33m=\u001b[0m \u001b[0mself\u001b[0m\u001b[1;33m.\u001b[0m\u001b[0m_data\u001b[0m\u001b[1;33m.\u001b[0m\u001b[0mget\u001b[0m\u001b[1;33m(\u001b[0m\u001b[0mitem\u001b[0m\u001b[1;33m)\u001b[0m\u001b[1;33m\u001b[0m\u001b[1;33m\u001b[0m\u001b[0m\n\u001b[0m\u001b[0;32m   2490\u001b[0m             \u001b[0mres\u001b[0m \u001b[1;33m=\u001b[0m \u001b[0mself\u001b[0m\u001b[1;33m.\u001b[0m\u001b[0m_box_item_values\u001b[0m\u001b[1;33m(\u001b[0m\u001b[0mitem\u001b[0m\u001b[1;33m,\u001b[0m \u001b[0mvalues\u001b[0m\u001b[1;33m)\u001b[0m\u001b[1;33m\u001b[0m\u001b[1;33m\u001b[0m\u001b[0m\n\u001b[0;32m   2491\u001b[0m             \u001b[0mcache\u001b[0m\u001b[1;33m[\u001b[0m\u001b[0mitem\u001b[0m\u001b[1;33m]\u001b[0m \u001b[1;33m=\u001b[0m \u001b[0mres\u001b[0m\u001b[1;33m\u001b[0m\u001b[1;33m\u001b[0m\u001b[0m\n",
      "\u001b[1;32m~\\Anaconda3\\lib\\site-packages\\pandas\\core\\internals.py\u001b[0m in \u001b[0;36mget\u001b[1;34m(self, item, fastpath)\u001b[0m\n\u001b[0;32m   4113\u001b[0m \u001b[1;33m\u001b[0m\u001b[0m\n\u001b[0;32m   4114\u001b[0m             \u001b[1;32mif\u001b[0m \u001b[1;32mnot\u001b[0m \u001b[0misna\u001b[0m\u001b[1;33m(\u001b[0m\u001b[0mitem\u001b[0m\u001b[1;33m)\u001b[0m\u001b[1;33m:\u001b[0m\u001b[1;33m\u001b[0m\u001b[1;33m\u001b[0m\u001b[0m\n\u001b[1;32m-> 4115\u001b[1;33m                 \u001b[0mloc\u001b[0m \u001b[1;33m=\u001b[0m \u001b[0mself\u001b[0m\u001b[1;33m.\u001b[0m\u001b[0mitems\u001b[0m\u001b[1;33m.\u001b[0m\u001b[0mget_loc\u001b[0m\u001b[1;33m(\u001b[0m\u001b[0mitem\u001b[0m\u001b[1;33m)\u001b[0m\u001b[1;33m\u001b[0m\u001b[1;33m\u001b[0m\u001b[0m\n\u001b[0m\u001b[0;32m   4116\u001b[0m             \u001b[1;32melse\u001b[0m\u001b[1;33m:\u001b[0m\u001b[1;33m\u001b[0m\u001b[1;33m\u001b[0m\u001b[0m\n\u001b[0;32m   4117\u001b[0m                 \u001b[0mindexer\u001b[0m \u001b[1;33m=\u001b[0m \u001b[0mnp\u001b[0m\u001b[1;33m.\u001b[0m\u001b[0marange\u001b[0m\u001b[1;33m(\u001b[0m\u001b[0mlen\u001b[0m\u001b[1;33m(\u001b[0m\u001b[0mself\u001b[0m\u001b[1;33m.\u001b[0m\u001b[0mitems\u001b[0m\u001b[1;33m)\u001b[0m\u001b[1;33m)\u001b[0m\u001b[1;33m[\u001b[0m\u001b[0misna\u001b[0m\u001b[1;33m(\u001b[0m\u001b[0mself\u001b[0m\u001b[1;33m.\u001b[0m\u001b[0mitems\u001b[0m\u001b[1;33m)\u001b[0m\u001b[1;33m]\u001b[0m\u001b[1;33m\u001b[0m\u001b[1;33m\u001b[0m\u001b[0m\n",
      "\u001b[1;32m~\\Anaconda3\\lib\\site-packages\\pandas\\core\\indexes\\base.py\u001b[0m in \u001b[0;36mget_loc\u001b[1;34m(self, key, method, tolerance)\u001b[0m\n\u001b[0;32m   3078\u001b[0m                 \u001b[1;32mreturn\u001b[0m \u001b[0mself\u001b[0m\u001b[1;33m.\u001b[0m\u001b[0m_engine\u001b[0m\u001b[1;33m.\u001b[0m\u001b[0mget_loc\u001b[0m\u001b[1;33m(\u001b[0m\u001b[0mkey\u001b[0m\u001b[1;33m)\u001b[0m\u001b[1;33m\u001b[0m\u001b[1;33m\u001b[0m\u001b[0m\n\u001b[0;32m   3079\u001b[0m             \u001b[1;32mexcept\u001b[0m \u001b[0mKeyError\u001b[0m\u001b[1;33m:\u001b[0m\u001b[1;33m\u001b[0m\u001b[1;33m\u001b[0m\u001b[0m\n\u001b[1;32m-> 3080\u001b[1;33m                 \u001b[1;32mreturn\u001b[0m \u001b[0mself\u001b[0m\u001b[1;33m.\u001b[0m\u001b[0m_engine\u001b[0m\u001b[1;33m.\u001b[0m\u001b[0mget_loc\u001b[0m\u001b[1;33m(\u001b[0m\u001b[0mself\u001b[0m\u001b[1;33m.\u001b[0m\u001b[0m_maybe_cast_indexer\u001b[0m\u001b[1;33m(\u001b[0m\u001b[0mkey\u001b[0m\u001b[1;33m)\u001b[0m\u001b[1;33m)\u001b[0m\u001b[1;33m\u001b[0m\u001b[1;33m\u001b[0m\u001b[0m\n\u001b[0m\u001b[0;32m   3081\u001b[0m \u001b[1;33m\u001b[0m\u001b[0m\n\u001b[0;32m   3082\u001b[0m         \u001b[0mindexer\u001b[0m \u001b[1;33m=\u001b[0m \u001b[0mself\u001b[0m\u001b[1;33m.\u001b[0m\u001b[0mget_indexer\u001b[0m\u001b[1;33m(\u001b[0m\u001b[1;33m[\u001b[0m\u001b[0mkey\u001b[0m\u001b[1;33m]\u001b[0m\u001b[1;33m,\u001b[0m \u001b[0mmethod\u001b[0m\u001b[1;33m=\u001b[0m\u001b[0mmethod\u001b[0m\u001b[1;33m,\u001b[0m \u001b[0mtolerance\u001b[0m\u001b[1;33m=\u001b[0m\u001b[0mtolerance\u001b[0m\u001b[1;33m)\u001b[0m\u001b[1;33m\u001b[0m\u001b[1;33m\u001b[0m\u001b[0m\n",
      "\u001b[1;32mpandas\\_libs\\index.pyx\u001b[0m in \u001b[0;36mpandas._libs.index.IndexEngine.get_loc\u001b[1;34m()\u001b[0m\n",
      "\u001b[1;32mpandas\\_libs\\index.pyx\u001b[0m in \u001b[0;36mpandas._libs.index.IndexEngine.get_loc\u001b[1;34m()\u001b[0m\n",
      "\u001b[1;32mpandas\\_libs\\hashtable_class_helper.pxi\u001b[0m in \u001b[0;36mpandas._libs.hashtable.PyObjectHashTable.get_item\u001b[1;34m()\u001b[0m\n",
      "\u001b[1;32mpandas\\_libs\\hashtable_class_helper.pxi\u001b[0m in \u001b[0;36mpandas._libs.hashtable.PyObjectHashTable.get_item\u001b[1;34m()\u001b[0m\n",
      "\u001b[1;31mKeyError\u001b[0m: '5_min_group'"
     ]
    }
   ],
   "source": [
    "Data_ans[(Data_ans['5_min_group']==54)&(Data_ans['公司']=='3045')]"
   ]
  },
  {
   "cell_type": "code",
   "execution_count": null,
   "metadata": {},
   "outputs": [],
   "source": []
  },
  {
   "cell_type": "code",
   "execution_count": 40,
   "metadata": {},
   "outputs": [
    {
     "data": {
      "text/html": [
       "<div>\n",
       "<style scoped>\n",
       "    .dataframe tbody tr th:only-of-type {\n",
       "        vertical-align: middle;\n",
       "    }\n",
       "\n",
       "    .dataframe tbody tr th {\n",
       "        vertical-align: top;\n",
       "    }\n",
       "\n",
       "    .dataframe thead th {\n",
       "        text-align: right;\n",
       "    }\n",
       "</style>\n",
       "<table border=\"1\" class=\"dataframe\">\n",
       "  <thead>\n",
       "    <tr style=\"text-align: right;\">\n",
       "      <th></th>\n",
       "      <th>收盤價</th>\n",
       "      <th>成交量</th>\n",
       "      <th>5_min_group</th>\n",
       "      <th>logP</th>\n",
       "      <th>LogReturn</th>\n",
       "      <th>交易額</th>\n",
       "      <th>價差</th>\n",
       "      <th>報酬率</th>\n",
       "      <th>com_day_vol</th>\n",
       "      <th>Itvl_trsf_vol</th>\n",
       "      <th>com_day_dvol</th>\n",
       "      <th>Itvl_trsf_dvol</th>\n",
       "    </tr>\n",
       "    <tr>\n",
       "      <th>日期</th>\n",
       "      <th></th>\n",
       "      <th></th>\n",
       "      <th></th>\n",
       "      <th></th>\n",
       "      <th></th>\n",
       "      <th></th>\n",
       "      <th></th>\n",
       "      <th></th>\n",
       "      <th></th>\n",
       "      <th></th>\n",
       "      <th></th>\n",
       "      <th></th>\n",
       "    </tr>\n",
       "  </thead>\n",
       "  <tbody>\n",
       "    <tr>\n",
       "      <th>2019-09-19</th>\n",
       "      <td>572.5</td>\n",
       "      <td>310</td>\n",
       "      <td>270</td>\n",
       "      <td>23.702874</td>\n",
       "      <td>0.000000</td>\n",
       "      <td>35495.0</td>\n",
       "      <td>0.0</td>\n",
       "      <td>0.000000</td>\n",
       "      <td>5105</td>\n",
       "      <td>0.303624</td>\n",
       "      <td>582997.5</td>\n",
       "      <td>0.304418</td>\n",
       "    </tr>\n",
       "    <tr>\n",
       "      <th>2019-09-20</th>\n",
       "      <td>570.0</td>\n",
       "      <td>2404</td>\n",
       "      <td>270</td>\n",
       "      <td>23.680992</td>\n",
       "      <td>0.000000</td>\n",
       "      <td>274056.0</td>\n",
       "      <td>0.0</td>\n",
       "      <td>0.000000</td>\n",
       "      <td>16820</td>\n",
       "      <td>0.714625</td>\n",
       "      <td>1918682.5</td>\n",
       "      <td>0.714178</td>\n",
       "    </tr>\n",
       "    <tr>\n",
       "      <th>2019-09-23</th>\n",
       "      <td>569.5</td>\n",
       "      <td>215</td>\n",
       "      <td>270</td>\n",
       "      <td>23.676597</td>\n",
       "      <td>-0.004396</td>\n",
       "      <td>24402.5</td>\n",
       "      <td>-0.5</td>\n",
       "      <td>-0.004386</td>\n",
       "      <td>9900</td>\n",
       "      <td>0.108586</td>\n",
       "      <td>1126252.5</td>\n",
       "      <td>0.108335</td>\n",
       "    </tr>\n",
       "    <tr>\n",
       "      <th>2019-09-24</th>\n",
       "      <td>565.0</td>\n",
       "      <td>755</td>\n",
       "      <td>270</td>\n",
       "      <td>23.636939</td>\n",
       "      <td>0.000000</td>\n",
       "      <td>85315.0</td>\n",
       "      <td>0.0</td>\n",
       "      <td>0.000000</td>\n",
       "      <td>15175</td>\n",
       "      <td>0.248764</td>\n",
       "      <td>1717397.5</td>\n",
       "      <td>0.248385</td>\n",
       "    </tr>\n",
       "    <tr>\n",
       "      <th>2019-09-25</th>\n",
       "      <td>565.0</td>\n",
       "      <td>404</td>\n",
       "      <td>270</td>\n",
       "      <td>23.636939</td>\n",
       "      <td>0.000000</td>\n",
       "      <td>45652.0</td>\n",
       "      <td>0.0</td>\n",
       "      <td>0.000000</td>\n",
       "      <td>13150</td>\n",
       "      <td>0.153612</td>\n",
       "      <td>1482027.5</td>\n",
       "      <td>0.154019</td>\n",
       "    </tr>\n",
       "    <tr>\n",
       "      <th>2019-09-26</th>\n",
       "      <td>563.0</td>\n",
       "      <td>362</td>\n",
       "      <td>270</td>\n",
       "      <td>23.619201</td>\n",
       "      <td>0.004435</td>\n",
       "      <td>40906.0</td>\n",
       "      <td>0.5</td>\n",
       "      <td>0.004444</td>\n",
       "      <td>11005</td>\n",
       "      <td>0.164471</td>\n",
       "      <td>1241882.5</td>\n",
       "      <td>0.164694</td>\n",
       "    </tr>\n",
       "    <tr>\n",
       "      <th>2019-09-27</th>\n",
       "      <td>560.0</td>\n",
       "      <td>195</td>\n",
       "      <td>270</td>\n",
       "      <td>23.592494</td>\n",
       "      <td>0.000000</td>\n",
       "      <td>21840.0</td>\n",
       "      <td>0.0</td>\n",
       "      <td>0.000000</td>\n",
       "      <td>11490</td>\n",
       "      <td>0.084856</td>\n",
       "      <td>1293312.5</td>\n",
       "      <td>0.084434</td>\n",
       "    </tr>\n",
       "    <tr>\n",
       "      <th>2019-10-01</th>\n",
       "      <td>565.5</td>\n",
       "      <td>372</td>\n",
       "      <td>270</td>\n",
       "      <td>23.641354</td>\n",
       "      <td>0.004415</td>\n",
       "      <td>42222.0</td>\n",
       "      <td>0.5</td>\n",
       "      <td>0.004425</td>\n",
       "      <td>8590</td>\n",
       "      <td>0.216531</td>\n",
       "      <td>973052.5</td>\n",
       "      <td>0.216956</td>\n",
       "    </tr>\n",
       "    <tr>\n",
       "      <th>2019-10-02</th>\n",
       "      <td>567.5</td>\n",
       "      <td>186</td>\n",
       "      <td>270</td>\n",
       "      <td>23.659014</td>\n",
       "      <td>0.000000</td>\n",
       "      <td>21111.0</td>\n",
       "      <td>0.0</td>\n",
       "      <td>0.000000</td>\n",
       "      <td>12180</td>\n",
       "      <td>0.076355</td>\n",
       "      <td>1382520.0</td>\n",
       "      <td>0.076350</td>\n",
       "    </tr>\n",
       "  </tbody>\n",
       "</table>\n",
       "</div>"
      ],
      "text/plain": [
       "              收盤價   成交量  5_min_group       logP  LogReturn       交易額   價差  \\\n",
       "日期                                                                          \n",
       "2019-09-19  572.5   310          270  23.702874   0.000000   35495.0  0.0   \n",
       "2019-09-20  570.0  2404          270  23.680992   0.000000  274056.0  0.0   \n",
       "2019-09-23  569.5   215          270  23.676597  -0.004396   24402.5 -0.5   \n",
       "2019-09-24  565.0   755          270  23.636939   0.000000   85315.0  0.0   \n",
       "2019-09-25  565.0   404          270  23.636939   0.000000   45652.0  0.0   \n",
       "2019-09-26  563.0   362          270  23.619201   0.004435   40906.0  0.5   \n",
       "2019-09-27  560.0   195          270  23.592494   0.000000   21840.0  0.0   \n",
       "2019-10-01  565.5   372          270  23.641354   0.004415   42222.0  0.5   \n",
       "2019-10-02  567.5   186          270  23.659014   0.000000   21111.0  0.0   \n",
       "\n",
       "                 報酬率  com_day_vol  Itvl_trsf_vol  com_day_dvol  Itvl_trsf_dvol  \n",
       "日期                                                                              \n",
       "2019-09-19  0.000000         5105       0.303624      582997.5        0.304418  \n",
       "2019-09-20  0.000000        16820       0.714625     1918682.5        0.714178  \n",
       "2019-09-23 -0.004386         9900       0.108586     1126252.5        0.108335  \n",
       "2019-09-24  0.000000        15175       0.248764     1717397.5        0.248385  \n",
       "2019-09-25  0.000000        13150       0.153612     1482027.5        0.154019  \n",
       "2019-09-26  0.004444        11005       0.164471     1241882.5        0.164694  \n",
       "2019-09-27  0.000000        11490       0.084856     1293312.5        0.084434  \n",
       "2019-10-01  0.004425         8590       0.216531      973052.5        0.216956  \n",
       "2019-10-02  0.000000        12180       0.076355     1382520.0        0.076350  "
      ]
     },
     "execution_count": 40,
     "metadata": {},
     "output_type": "execute_result"
    }
   ],
   "source": [
    "Data_na[(Data_na['公司']=='3045')& (Data_na['5_min_group']== 54)].groupby(['日期']).sum()"
   ]
  },
  {
   "cell_type": "code",
   "execution_count": 41,
   "metadata": {},
   "outputs": [
    {
     "data": {
      "image/png": "[encoded data removed]",
      "text/plain": [
       "<Figure size 432x288 with 1 Axes>"
      ]
     },
     "metadata": {
      "needs_background": "light"
     },
     "output_type": "display_data"
    }
   ],
   "source": [
    "x=pltdata.index\n",
    "y=pltdata['dVol']\n",
    "plt.plot(x,y) \n",
    "plt.xlabel(\"5-min interval\")\n",
    "plt.ylabel(\"Dollar Volume \")\n",
    "plt.title(\"Intraday Dollar Volume\")\n",
    "plt.legend()#收盤有集中競價?\n",
    "#plt.show()\n",
    "plt.savefig(\"dvol.png\",bbox_inches='tight')\n",
    "\n",
    "\n",
    "\n",
    "\n",
    "\n"
   ]
  },
  {
   "cell_type": "code",
   "execution_count": 42,
   "metadata": {},
   "outputs": [],
   "source": [
    "# x=pltdata.index\n",
    "# y3 =((pltdata['itvllogR']-np.mean(pltdata['itvllogR'])).abs())/np.std((pltdata['itvllogR']-np.mean(pltdata['itvllogR']).abs())\n",
    "# y4 =(pltdata['Return_std']-np.mean(pltdata['Return_std']))/np.std(pltdata['Return_std'])\n",
    "     \n",
    "# plt.plot(x,y3) \n",
    "# plt.plot(x,y4) \n",
    "# plt.xlabel(\"5-min interval\")\n",
    "# plt.ylabel(\"Trading volume and volatility2\")\n",
    "# plt.title(\"Intraday Trading volume and Volatility\")#半小時K線資訊->投資者關注訊息->對資訊的增量評價不一致->交易增加->報酬波動度高\n",
    "# plt.legend()\n",
    "# #plt.show()\n"
   ]
  },
  {
   "cell_type": "code",
   "execution_count": 43,
   "metadata": {},
   "outputs": [
    {
     "data": {
      "image/png": "[encoded data removed]",
      "text/plain": [
       "<Figure size 432x288 with 1 Axes>"
      ]
     },
     "metadata": {
      "needs_background": "light"
     },
     "output_type": "display_data"
    }
   ],
   "source": [
    "x=pltdata.index\n",
    "y1=(pltdata['Vol']-np.mean(pltdata['Vol']))/np.std(pltdata['Vol'])\n",
    "y2=(pltdata['Return_std']-np.mean(pltdata['Return_std']))/np.std(pltdata['Return_std'])\n",
    "plt.plot(x,y1) \n",
    "plt.plot(x,y2) \n",
    "plt.xlabel(\"5-min interval\")\n",
    "plt.ylabel(\"Trading volume and volatility\")\n",
    "plt.title(\"Intraday Trading volume and Volatility\")#半小時K線資訊->投資者關注訊息->對資訊的增量評價不一致->交易增加->報酬波動度高\n",
    "plt.legend()\n",
    "#plt.show()\n",
    "plt.savefig(\"doublevol.png\",bbox_inches='tight')"
   ]
  },
  {
   "cell_type": "code",
   "execution_count": 44,
   "metadata": {},
   "outputs": [
    {
     "data": {
      "image/png": "[encoded data removed]",
      "text/plain": [
       "<Figure size 432x288 with 1 Axes>"
      ]
     },
     "metadata": {
      "needs_background": "light"
     },
     "output_type": "display_data"
    }
   ],
   "source": [
    "x=pltdata.index\n",
    "y=pltdata['Return_std']\n",
    "plt.plot(x,y) \n",
    "plt.xlabel(\"5-min interval\")\n",
    "plt.ylabel(\"Return std\")\n",
    "plt.title(\"Intraday volatility\")\n",
    "#plt.show()\n",
    "plt.legend()\n",
    "plt.savefig(\"volatility.png\",bbox_inches='tight')\n",
    "\n",
    "#30分線揭露的下一期"
   ]
  },
  {
   "cell_type": "code",
   "execution_count": null,
   "metadata": {},
   "outputs": [],
   "source": []
  },
  {
   "cell_type": "code",
   "execution_count": 45,
   "metadata": {},
   "outputs": [
    {
     "data": {
      "image/png": "[encoded data removed]",
      "text/plain": [
       "<Figure size 432x288 with 1 Axes>"
      ]
     },
     "metadata": {
      "needs_background": "light"
     },
     "output_type": "display_data"
    }
   ],
   "source": [
    "x=pltdata.index\n",
    "y=pltdata['amihud']\n",
    "plt.plot(x,y) \n",
    "plt.xlabel(\"5-min interval\")\n",
    "plt.ylabel(\"Amihud\")\n",
    "plt.title(\"Intraday illiquidity\")\n",
    "\n",
    "plt.savefig(\"Amihud.png\",bbox_inches='tight')"
   ]
  },
  {
   "cell_type": "code",
   "execution_count": null,
   "metadata": {},
   "outputs": [],
   "source": []
  },
  {
   "cell_type": "code",
   "execution_count": 1176,
   "metadata": {},
   "outputs": [
    {
     "data": {
      "text/plain": [
       "<matplotlib.lines.Line2D at 0x251c3849b00>"
      ]
     },
     "execution_count": 1176,
     "metadata": {},
     "output_type": "execute_result"
    },
    {
     "data": {
      "image/png": "[encoded data removed]",
      "text/plain": [
       "<Figure size 432x288 with 1 Axes>"
      ]
     },
     "metadata": {
      "needs_background": "light"
     },
     "output_type": "display_data"
    }
   ],
   "source": [
    "from scipy.fftpack import fft,fftfreq\n",
    "\n",
    "f_s=0.2\n",
    "# x = np.asarray(pltdata['Amihud']-1)\n",
    "x=y\n",
    "X = fft(x)\n",
    "\n",
    "# f_s=0.2\n",
    "# x = np.asarray(pltdata['Amihud'])\n",
    "# X = fft(x)\n",
    "\n",
    "freqs = fftfreq(len(x)) * f_s\n",
    "freqs =freqs[0:27]\n",
    "#fig, ax = plt.subplots()\n",
    "X=np.abs(X[0:27])\n",
    "plt.plot(freqs, X)\n",
    "plt.xlabel('Frequency')\n",
    "plt.ylabel('Amplitude')\n",
    "plt.xlim(-0.002, f_s / 2)\n",
    "plt.ylim(0, 0.01)\n",
    "# plt.annotate('30 mins', xy=(1/30, 23))\n",
    "# plt.annotate('15 mins', xy=(1/15, 23))\n",
    "plt.axvline(x=1/30)\n",
    "plt.axvline(x=1/15)\n",
    "plt.axvline(x=1/60)\n",
    "# plt.title(\"Variance Ratio - Fourier transform spectrum \")\n",
    "# plt.axvline(x=1/10.7)"
   ]
  },
  {
   "cell_type": "code",
   "execution_count": 989,
   "metadata": {},
   "outputs": [],
   "source": [
    "Data_ans=Data_ans.reset_index(level=[0,1])"
   ]
  },
  {
   "cell_type": "code",
   "execution_count": 1061,
   "metadata": {},
   "outputs": [],
   "source": [
    "Data_eff=pd.DataFrame({\"LogReturn\":Data_na.groupby(['公司','日期','5_min_group'])['LogReturn'].sum()})\n",
    "#Data_eff=Data_eff.reset_index(level=[1,0])"
   ]
  },
  {
   "cell_type": "code",
   "execution_count": 1062,
   "metadata": {},
   "outputs": [],
   "source": [
    "Data_eff=Data_eff.reset_index(level=['公司','日期','5_min_group'])"
   ]
  },
  {
   "cell_type": "code",
   "execution_count": 1063,
   "metadata": {},
   "outputs": [],
   "source": [
    "DailyRet=pd.DataFrame({\"DailyReturn\":Data_eff.groupby(['公司','日期'])['LogReturn'].sum()})"
   ]
  },
  {
   "cell_type": "code",
   "execution_count": 1064,
   "metadata": {},
   "outputs": [],
   "source": [
    " DailyRet=DailyRet.reset_index(level=['公司','日期'])"
   ]
  },
  {
   "cell_type": "code",
   "execution_count": 1065,
   "metadata": {},
   "outputs": [],
   "source": [
    " Data_eff=pd.merge(Data_eff, DailyRet, on=['公司','日期'],how='outer')"
   ]
  },
  {
   "cell_type": "code",
   "execution_count": 1082,
   "metadata": {},
   "outputs": [],
   "source": [
    "Data_eff['R_k3']=Data_eff.groupby(['公司','日期'])['LogReturn'].transform(lambda x: x.rolling(3).sum())\n",
    "Data_eff['R_k2']=Data_eff.groupby(['公司','日期'])['LogReturn'].transform(lambda x: x.rolling(2).sum())\n",
    "Data_eff['R_k6']=Data_eff.groupby(['公司','日期'])['LogReturn'].transform(lambda x: x.rolling(6).sum())\n",
    "Data_eff['R_k12']=Data_eff.groupby(['公司','日期'])['LogReturn'].transform(lambda x: x.rolling(12).sum())"
   ]
  },
  {
   "cell_type": "code",
   "execution_count": 1225,
   "metadata": {},
   "outputs": [],
   "source": [
    "varr_data=pd.DataFrame(columns=['k_value','itvl','Var_ratio']) \n",
    "k_list=[6]"
   ]
  },
  {
   "cell_type": "code",
   "execution_count": 1226,
   "metadata": {},
   "outputs": [],
   "source": [
    "for j in k_list:\n",
    "    for i in np.arange(1,Data_eff['5_min_group'].nunique()-(j-1)):\n",
    "                itvl_var=Data_eff[Data_eff['5_min_group']==i+j-1]['LogReturn'].var()\n",
    "                exec(f\"past_k_var=Data_eff[Data_eff['5_min_group']==i+j-1]['R_k{j}'].var()\")\n",
    "                Var_ratio=past_k_var/(j*itvl_var)\n",
    "                varr_data=varr_data.append({'k_value': j,'itvl':i+j-1,'Var_ratio':Var_ratio},ignore_index=True)"
   ]
  },
  {
   "cell_type": "code",
   "execution_count": 1227,
   "metadata": {},
   "outputs": [],
   "source": [
    "varr_data.set_index('itvl', inplace=True)"
   ]
  },
  {
   "cell_type": "code",
   "execution_count": 1228,
   "metadata": {},
   "outputs": [
    {
     "data": {
      "image/png": "[encoded data removed]",
      "text/plain": [
       "<Figure size 432x288 with 1 Axes>"
      ]
     },
     "metadata": {
      "needs_background": "light"
     },
     "output_type": "display_data"
    }
   ],
   "source": [
    "varr_data.groupby('k_value')['Var_ratio'].plot(legend=True)\n",
    "plt.hlines(y=1,xmin=0,xmax=54)\n",
    "plt.xlabel(\"5-min interval\")\n",
    "plt.ylabel(\"Variance Ratio\")\n",
    "plt.title(\"Intraday Variance Ratio\")\n",
    "plt.savefig(\"varratio.png\",bbox_inches='tight')\n"
   ]
  },
  {
   "cell_type": "code",
   "execution_count": 1004,
   "metadata": {},
   "outputs": [],
   "source": [
    "Data_eff['報酬率']=[np.exp(i)-1 for i in Data_eff['LogReturn']]"
   ]
  },
  {
   "cell_type": "code",
   "execution_count": 1220,
   "metadata": {},
   "outputs": [
    {
     "data": {
      "text/html": [
       "<div>\n",
       "<style scoped>\n",
       "    .dataframe tbody tr th:only-of-type {\n",
       "        vertical-align: middle;\n",
       "    }\n",
       "\n",
       "    .dataframe tbody tr th {\n",
       "        vertical-align: top;\n",
       "    }\n",
       "\n",
       "    .dataframe thead th {\n",
       "        text-align: right;\n",
       "    }\n",
       "</style>\n",
       "<table border=\"1\" class=\"dataframe\">\n",
       "  <thead>\n",
       "    <tr style=\"text-align: right;\">\n",
       "      <th></th>\n",
       "      <th>k_value</th>\n",
       "      <th>Var_ratio</th>\n",
       "    </tr>\n",
       "    <tr>\n",
       "      <th>itvl</th>\n",
       "      <th></th>\n",
       "      <th></th>\n",
       "    </tr>\n",
       "  </thead>\n",
       "  <tbody>\n",
       "    <tr>\n",
       "      <th>2.0</th>\n",
       "      <td>2.0</td>\n",
       "      <td>1.047896</td>\n",
       "    </tr>\n",
       "    <tr>\n",
       "      <th>3.0</th>\n",
       "      <td>2.0</td>\n",
       "      <td>1.298477</td>\n",
       "    </tr>\n",
       "    <tr>\n",
       "      <th>4.0</th>\n",
       "      <td>2.0</td>\n",
       "      <td>0.679119</td>\n",
       "    </tr>\n",
       "    <tr>\n",
       "      <th>5.0</th>\n",
       "      <td>2.0</td>\n",
       "      <td>1.875257</td>\n",
       "    </tr>\n",
       "    <tr>\n",
       "      <th>6.0</th>\n",
       "      <td>2.0</td>\n",
       "      <td>1.236819</td>\n",
       "    </tr>\n",
       "    <tr>\n",
       "      <th>7.0</th>\n",
       "      <td>2.0</td>\n",
       "      <td>0.825891</td>\n",
       "    </tr>\n",
       "    <tr>\n",
       "      <th>8.0</th>\n",
       "      <td>2.0</td>\n",
       "      <td>0.972065</td>\n",
       "    </tr>\n",
       "    <tr>\n",
       "      <th>9.0</th>\n",
       "      <td>2.0</td>\n",
       "      <td>0.637723</td>\n",
       "    </tr>\n",
       "    <tr>\n",
       "      <th>10.0</th>\n",
       "      <td>2.0</td>\n",
       "      <td>0.483456</td>\n",
       "    </tr>\n",
       "    <tr>\n",
       "      <th>11.0</th>\n",
       "      <td>2.0</td>\n",
       "      <td>0.775480</td>\n",
       "    </tr>\n",
       "    <tr>\n",
       "      <th>12.0</th>\n",
       "      <td>2.0</td>\n",
       "      <td>0.705953</td>\n",
       "    </tr>\n",
       "    <tr>\n",
       "      <th>13.0</th>\n",
       "      <td>2.0</td>\n",
       "      <td>0.888547</td>\n",
       "    </tr>\n",
       "    <tr>\n",
       "      <th>14.0</th>\n",
       "      <td>2.0</td>\n",
       "      <td>0.782748</td>\n",
       "    </tr>\n",
       "    <tr>\n",
       "      <th>15.0</th>\n",
       "      <td>2.0</td>\n",
       "      <td>0.668547</td>\n",
       "    </tr>\n",
       "    <tr>\n",
       "      <th>16.0</th>\n",
       "      <td>2.0</td>\n",
       "      <td>1.077928</td>\n",
       "    </tr>\n",
       "    <tr>\n",
       "      <th>17.0</th>\n",
       "      <td>2.0</td>\n",
       "      <td>0.762032</td>\n",
       "    </tr>\n",
       "    <tr>\n",
       "      <th>18.0</th>\n",
       "      <td>2.0</td>\n",
       "      <td>0.836991</td>\n",
       "    </tr>\n",
       "    <tr>\n",
       "      <th>19.0</th>\n",
       "      <td>2.0</td>\n",
       "      <td>0.913565</td>\n",
       "    </tr>\n",
       "    <tr>\n",
       "      <th>20.0</th>\n",
       "      <td>2.0</td>\n",
       "      <td>0.816653</td>\n",
       "    </tr>\n",
       "    <tr>\n",
       "      <th>21.0</th>\n",
       "      <td>2.0</td>\n",
       "      <td>0.630449</td>\n",
       "    </tr>\n",
       "    <tr>\n",
       "      <th>22.0</th>\n",
       "      <td>2.0</td>\n",
       "      <td>1.074334</td>\n",
       "    </tr>\n",
       "    <tr>\n",
       "      <th>23.0</th>\n",
       "      <td>2.0</td>\n",
       "      <td>0.831341</td>\n",
       "    </tr>\n",
       "    <tr>\n",
       "      <th>24.0</th>\n",
       "      <td>2.0</td>\n",
       "      <td>0.563124</td>\n",
       "    </tr>\n",
       "    <tr>\n",
       "      <th>25.0</th>\n",
       "      <td>2.0</td>\n",
       "      <td>0.750174</td>\n",
       "    </tr>\n",
       "    <tr>\n",
       "      <th>26.0</th>\n",
       "      <td>2.0</td>\n",
       "      <td>1.164912</td>\n",
       "    </tr>\n",
       "    <tr>\n",
       "      <th>27.0</th>\n",
       "      <td>2.0</td>\n",
       "      <td>0.628176</td>\n",
       "    </tr>\n",
       "    <tr>\n",
       "      <th>28.0</th>\n",
       "      <td>2.0</td>\n",
       "      <td>1.057391</td>\n",
       "    </tr>\n",
       "    <tr>\n",
       "      <th>29.0</th>\n",
       "      <td>2.0</td>\n",
       "      <td>0.403982</td>\n",
       "    </tr>\n",
       "    <tr>\n",
       "      <th>30.0</th>\n",
       "      <td>2.0</td>\n",
       "      <td>0.605728</td>\n",
       "    </tr>\n",
       "    <tr>\n",
       "      <th>31.0</th>\n",
       "      <td>2.0</td>\n",
       "      <td>1.103505</td>\n",
       "    </tr>\n",
       "    <tr>\n",
       "      <th>32.0</th>\n",
       "      <td>2.0</td>\n",
       "      <td>0.483989</td>\n",
       "    </tr>\n",
       "    <tr>\n",
       "      <th>33.0</th>\n",
       "      <td>2.0</td>\n",
       "      <td>0.845931</td>\n",
       "    </tr>\n",
       "    <tr>\n",
       "      <th>34.0</th>\n",
       "      <td>2.0</td>\n",
       "      <td>0.633371</td>\n",
       "    </tr>\n",
       "    <tr>\n",
       "      <th>35.0</th>\n",
       "      <td>2.0</td>\n",
       "      <td>0.621624</td>\n",
       "    </tr>\n",
       "    <tr>\n",
       "      <th>36.0</th>\n",
       "      <td>2.0</td>\n",
       "      <td>0.799855</td>\n",
       "    </tr>\n",
       "    <tr>\n",
       "      <th>37.0</th>\n",
       "      <td>2.0</td>\n",
       "      <td>0.727062</td>\n",
       "    </tr>\n",
       "    <tr>\n",
       "      <th>38.0</th>\n",
       "      <td>2.0</td>\n",
       "      <td>0.630060</td>\n",
       "    </tr>\n",
       "    <tr>\n",
       "      <th>39.0</th>\n",
       "      <td>2.0</td>\n",
       "      <td>0.769990</td>\n",
       "    </tr>\n",
       "    <tr>\n",
       "      <th>40.0</th>\n",
       "      <td>2.0</td>\n",
       "      <td>0.831895</td>\n",
       "    </tr>\n",
       "    <tr>\n",
       "      <th>41.0</th>\n",
       "      <td>2.0</td>\n",
       "      <td>0.486586</td>\n",
       "    </tr>\n",
       "    <tr>\n",
       "      <th>42.0</th>\n",
       "      <td>2.0</td>\n",
       "      <td>0.616532</td>\n",
       "    </tr>\n",
       "    <tr>\n",
       "      <th>43.0</th>\n",
       "      <td>2.0</td>\n",
       "      <td>0.704688</td>\n",
       "    </tr>\n",
       "    <tr>\n",
       "      <th>44.0</th>\n",
       "      <td>2.0</td>\n",
       "      <td>0.692497</td>\n",
       "    </tr>\n",
       "    <tr>\n",
       "      <th>45.0</th>\n",
       "      <td>2.0</td>\n",
       "      <td>0.663095</td>\n",
       "    </tr>\n",
       "    <tr>\n",
       "      <th>46.0</th>\n",
       "      <td>2.0</td>\n",
       "      <td>0.732441</td>\n",
       "    </tr>\n",
       "    <tr>\n",
       "      <th>47.0</th>\n",
       "      <td>2.0</td>\n",
       "      <td>0.992168</td>\n",
       "    </tr>\n",
       "    <tr>\n",
       "      <th>48.0</th>\n",
       "      <td>2.0</td>\n",
       "      <td>0.782572</td>\n",
       "    </tr>\n",
       "    <tr>\n",
       "      <th>49.0</th>\n",
       "      <td>2.0</td>\n",
       "      <td>0.725585</td>\n",
       "    </tr>\n",
       "    <tr>\n",
       "      <th>50.0</th>\n",
       "      <td>2.0</td>\n",
       "      <td>0.678539</td>\n",
       "    </tr>\n",
       "    <tr>\n",
       "      <th>51.0</th>\n",
       "      <td>2.0</td>\n",
       "      <td>0.699361</td>\n",
       "    </tr>\n",
       "    <tr>\n",
       "      <th>52.0</th>\n",
       "      <td>2.0</td>\n",
       "      <td>0.877418</td>\n",
       "    </tr>\n",
       "    <tr>\n",
       "      <th>53.0</th>\n",
       "      <td>2.0</td>\n",
       "      <td>0.796773</td>\n",
       "    </tr>\n",
       "  </tbody>\n",
       "</table>\n",
       "</div>"
      ],
      "text/plain": [
       "      k_value  Var_ratio\n",
       "itvl                    \n",
       "2.0       2.0   1.047896\n",
       "3.0       2.0   1.298477\n",
       "4.0       2.0   0.679119\n",
       "5.0       2.0   1.875257\n",
       "6.0       2.0   1.236819\n",
       "7.0       2.0   0.825891\n",
       "8.0       2.0   0.972065\n",
       "9.0       2.0   0.637723\n",
       "10.0      2.0   0.483456\n",
       "11.0      2.0   0.775480\n",
       "12.0      2.0   0.705953\n",
       "13.0      2.0   0.888547\n",
       "14.0      2.0   0.782748\n",
       "15.0      2.0   0.668547\n",
       "16.0      2.0   1.077928\n",
       "17.0      2.0   0.762032\n",
       "18.0      2.0   0.836991\n",
       "19.0      2.0   0.913565\n",
       "20.0      2.0   0.816653\n",
       "21.0      2.0   0.630449\n",
       "22.0      2.0   1.074334\n",
       "23.0      2.0   0.831341\n",
       "24.0      2.0   0.563124\n",
       "25.0      2.0   0.750174\n",
       "26.0      2.0   1.164912\n",
       "27.0      2.0   0.628176\n",
       "28.0      2.0   1.057391\n",
       "29.0      2.0   0.403982\n",
       "30.0      2.0   0.605728\n",
       "31.0      2.0   1.103505\n",
       "32.0      2.0   0.483989\n",
       "33.0      2.0   0.845931\n",
       "34.0      2.0   0.633371\n",
       "35.0      2.0   0.621624\n",
       "36.0      2.0   0.799855\n",
       "37.0      2.0   0.727062\n",
       "38.0      2.0   0.630060\n",
       "39.0      2.0   0.769990\n",
       "40.0      2.0   0.831895\n",
       "41.0      2.0   0.486586\n",
       "42.0      2.0   0.616532\n",
       "43.0      2.0   0.704688\n",
       "44.0      2.0   0.692497\n",
       "45.0      2.0   0.663095\n",
       "46.0      2.0   0.732441\n",
       "47.0      2.0   0.992168\n",
       "48.0      2.0   0.782572\n",
       "49.0      2.0   0.725585\n",
       "50.0      2.0   0.678539\n",
       "51.0      2.0   0.699361\n",
       "52.0      2.0   0.877418\n",
       "53.0      2.0   0.796773"
      ]
     },
     "execution_count": 1220,
     "metadata": {},
     "output_type": "execute_result"
    }
   ],
   "source": [
    "varr_data"
   ]
  },
  {
   "cell_type": "code",
   "execution_count": 1005,
   "metadata": {},
   "outputs": [],
   "source": [
    "Data_Efficiency=Data_eff.pivot_table(index=['公司', '日期'], columns='5_min_group',values='報酬率')"
   ]
  },
  {
   "cell_type": "code",
   "execution_count": 1006,
   "metadata": {},
   "outputs": [],
   "source": [
    "Data_Efficiency=Data_Efficiency.reset_index(level=[0,0])"
   ]
  },
  {
   "cell_type": "code",
   "execution_count": 1007,
   "metadata": {
    "scrolled": true
   },
   "outputs": [],
   "source": [
    "corr_mat=Data_Efficiency.corr()"
   ]
  },
  {
   "cell_type": "code",
   "execution_count": 1008,
   "metadata": {},
   "outputs": [],
   "source": [
    "corr_1=pd.DataFrame(columns=['itvl','corr'])\n",
    "for i in range(53):\n",
    "    corr_1=corr_1.append({'itvl':i+1,'corr':Data_Efficiency.corr().iloc[i,i+1]},ignore_index=True)"
   ]
  },
  {
   "cell_type": "code",
   "execution_count": 36,
   "metadata": {},
   "outputs": [
    {
     "ename": "NameError",
     "evalue": "name 'corr_1' is not defined",
     "output_type": "error",
     "traceback": [
      "\u001b[1;31m---------------------------------------------------------------------------\u001b[0m",
      "\u001b[1;31mNameError\u001b[0m                                 Traceback (most recent call last)",
      "\u001b[1;32m<ipython-input-36-b18a5cae781d>\u001b[0m in \u001b[0;36m<module>\u001b[1;34m\u001b[0m\n\u001b[1;32m----> 1\u001b[1;33m \u001b[0mx\u001b[0m\u001b[1;33m=\u001b[0m\u001b[0mcorr_1\u001b[0m\u001b[1;33m[\u001b[0m\u001b[1;34m'itvl'\u001b[0m\u001b[1;33m]\u001b[0m\u001b[1;33m\u001b[0m\u001b[1;33m\u001b[0m\u001b[0m\n\u001b[0m\u001b[0;32m      2\u001b[0m \u001b[0my\u001b[0m\u001b[1;33m=\u001b[0m\u001b[0mcorr_1\u001b[0m\u001b[1;33m[\u001b[0m\u001b[1;34m'corr'\u001b[0m\u001b[1;33m]\u001b[0m\u001b[1;33m\u001b[0m\u001b[1;33m\u001b[0m\u001b[0m\n\u001b[0;32m      3\u001b[0m \u001b[0mplt\u001b[0m\u001b[1;33m.\u001b[0m\u001b[0mplot\u001b[0m\u001b[1;33m(\u001b[0m\u001b[0mx\u001b[0m\u001b[1;33m,\u001b[0m\u001b[0my\u001b[0m\u001b[1;33m)\u001b[0m\u001b[1;33m\u001b[0m\u001b[1;33m\u001b[0m\u001b[0m\n\u001b[0;32m      4\u001b[0m \u001b[0mplt\u001b[0m\u001b[1;33m.\u001b[0m\u001b[0mxlabel\u001b[0m\u001b[1;33m(\u001b[0m\u001b[1;34m\"5-min interval\"\u001b[0m\u001b[1;33m)\u001b[0m\u001b[1;33m\u001b[0m\u001b[1;33m\u001b[0m\u001b[0m\n\u001b[0;32m      5\u001b[0m \u001b[0mplt\u001b[0m\u001b[1;33m.\u001b[0m\u001b[0mylabel\u001b[0m\u001b[1;33m(\u001b[0m\u001b[1;34m\"1 period autocorrelation\"\u001b[0m\u001b[1;33m)\u001b[0m\u001b[1;33m\u001b[0m\u001b[1;33m\u001b[0m\u001b[0m\n",
      "\u001b[1;31mNameError\u001b[0m: name 'corr_1' is not defined"
     ]
    }
   ],
   "source": [
    " x=corr_1['itvl']\n",
    " y=corr_1['corr']\n",
    " plt.plot(x,y)\n",
    " plt.xlabel(\"5-min interval\")\n",
    " plt.ylabel(\"1 period autocorrelation\")\n",
    " plt.title(\"Intraday autocorrelation(delta=1)\")\n",
    " plt.hlines(y=0,xmin=0,xmax=54)\n",
    "plt.savefig(\"autocorr_1.png\",bbox_inches='tight')"
   ]
  },
  {
   "cell_type": "code",
   "execution_count": 1147,
   "metadata": {},
   "outputs": [
    {
     "data": {
      "image/png": "[encoded data removed]",
      "text/plain": [
       "<Figure size 432x288 with 1 Axes>"
      ]
     },
     "metadata": {
      "needs_background": "light"
     },
     "output_type": "display_data"
    }
   ],
   "source": [
    "corr_2=pd.DataFrame(columns=['itvl','corr'])\n",
    "for i in range(52):\n",
    "    corr_2=corr_2.append({'itvl':i+2,'corr':Data_Efficiency.corr().iloc[i,i+2]},ignore_index=True)\n",
    "\n",
    "x=corr_2['itvl']\n",
    "y=corr_2['corr']\n",
    "plt.plot(x,y)\n",
    "plt.xlabel(\"5-min interval\")\n",
    "plt.ylabel(\"2 period autocorrelation\")\n",
    "plt.title(\"Intraday autocorrelation(delta=2)\")\n",
    "plt.hlines(y=0,xmin=0,xmax=54)\n",
    "plt.savefig(\"autocorr_2.png\",bbox_inches='tight')"
   ]
  },
  {
   "cell_type": "code",
   "execution_count": 1148,
   "metadata": {},
   "outputs": [
    {
     "data": {
      "image/png": "[encoded data removed]",
      "text/plain": [
       "<Figure size 432x288 with 1 Axes>"
      ]
     },
     "metadata": {
      "needs_background": "light"
     },
     "output_type": "display_data"
    }
   ],
   "source": [
    "corr_3=pd.DataFrame(columns=['itvl','corr'])\n",
    "for i in range(51):\n",
    "    corr_3=corr_3.append({'itvl':i+3,'corr':Data_Efficiency.corr().iloc[i,i+3]},ignore_index=True)\n",
    "\n",
    "x=corr_3['itvl']\n",
    "y=corr_3['corr']\n",
    "plt.plot(x,y)\n",
    "plt.xlabel(\"5-min interval\")\n",
    "plt.ylabel(\"3 period autocorrelation\")\n",
    "plt.title(\"Intraday autocorrelation(delta=3)\")\n",
    "plt.hlines(y=0,xmin=0,xmax=54)\n",
    "plt.savefig(\"autocorr_3.png\",bbox_inches='tight')"
   ]
  },
  {
   "cell_type": "code",
   "execution_count": 1012,
   "metadata": {},
   "outputs": [],
   "source": [
    "#R-squaredes\n",
    "import statsmodels.api as sm"
   ]
  },
  {
   "cell_type": "code",
   "execution_count": 1013,
   "metadata": {},
   "outputs": [],
   "source": [
    "Data_eff['Ret_d1']=Data_eff.groupby(['公司','日期'])['報酬率'].shift(1)\n",
    "Data_eff['Ret_d2']=Data_eff.groupby(['公司','日期'])['報酬率'].shift(2)\n",
    "Data_eff['Ret_d3']=Data_eff.groupby(['公司','日期'])['報酬率'].shift(3)"
   ]
  },
  {
   "cell_type": "code",
   "execution_count": 1014,
   "metadata": {},
   "outputs": [],
   "source": [
    "sltdata=Data_eff[['Ret_d3','Ret_d2','Ret_d1','報酬率']].dropna()"
   ]
  },
  {
   "cell_type": "code",
   "execution_count": 1149,
   "metadata": {},
   "outputs": [
    {
     "data": {
      "text/html": [
       "<table class=\"simpletable\">\n",
       "<caption>OLS Regression Results</caption>\n",
       "<tr>\n",
       "  <th>Dep. Variable:</th>           <td>報酬率</td>       <th>  R-squared:         </th>  <td>   0.041</td> \n",
       "</tr>\n",
       "<tr>\n",
       "  <th>Model:</th>                   <td>OLS</td>       <th>  Adj. R-squared:    </th>  <td>   0.040</td> \n",
       "</tr>\n",
       "<tr>\n",
       "  <th>Method:</th>             <td>Least Squares</td>  <th>  F-statistic:       </th>  <td>   39.22</td> \n",
       "</tr>\n",
       "<tr>\n",
       "  <th>Date:</th>             <td>Sat, 05 Oct 2019</td> <th>  Prob (F-statistic):</th>  <td>8.20e-25</td> \n",
       "</tr>\n",
       "<tr>\n",
       "  <th>Time:</th>                 <td>15:23:35</td>     <th>  Log-Likelihood:    </th>  <td>  12763.</td> \n",
       "</tr>\n",
       "<tr>\n",
       "  <th>No. Observations:</th>      <td>  2754</td>      <th>  AIC:               </th> <td>-2.552e+04</td>\n",
       "</tr>\n",
       "<tr>\n",
       "  <th>Df Residuals:</th>          <td>  2751</td>      <th>  BIC:               </th> <td>-2.550e+04</td>\n",
       "</tr>\n",
       "<tr>\n",
       "  <th>Df Model:</th>              <td>     3</td>      <th>                     </th>      <td> </td>    \n",
       "</tr>\n",
       "<tr>\n",
       "  <th>Covariance Type:</th>      <td>nonrobust</td>    <th>                     </th>      <td> </td>    \n",
       "</tr>\n",
       "</table>\n",
       "<table class=\"simpletable\">\n",
       "<tr>\n",
       "     <td></td>       <th>coef</th>     <th>std err</th>      <th>t</th>      <th>P>|t|</th>  <th>[0.025</th>    <th>0.975]</th>  \n",
       "</tr>\n",
       "<tr>\n",
       "  <th>Ret_d1</th> <td>   -0.2024</td> <td>    0.019</td> <td>  -10.541</td> <td> 0.000</td> <td>   -0.240</td> <td>   -0.165</td>\n",
       "</tr>\n",
       "<tr>\n",
       "  <th>Ret_d2</th> <td>   -0.0707</td> <td>    0.019</td> <td>   -3.672</td> <td> 0.000</td> <td>   -0.108</td> <td>   -0.033</td>\n",
       "</tr>\n",
       "<tr>\n",
       "  <th>Ret_d3</th> <td>    0.0157</td> <td>    0.018</td> <td>    0.849</td> <td> 0.396</td> <td>   -0.020</td> <td>    0.052</td>\n",
       "</tr>\n",
       "</table>\n",
       "<table class=\"simpletable\">\n",
       "<tr>\n",
       "  <th>Omnibus:</th>       <td>667.873</td> <th>  Durbin-Watson:     </th> <td>   1.989</td> \n",
       "</tr>\n",
       "<tr>\n",
       "  <th>Prob(Omnibus):</th> <td> 0.000</td>  <th>  Jarque-Bera (JB):  </th> <td>10218.727</td>\n",
       "</tr>\n",
       "<tr>\n",
       "  <th>Skew:</th>          <td> 0.724</td>  <th>  Prob(JB):          </th> <td>    0.00</td> \n",
       "</tr>\n",
       "<tr>\n",
       "  <th>Kurtosis:</th>      <td>12.325</td>  <th>  Cond. No.          </th> <td>    1.31</td> \n",
       "</tr>\n",
       "</table><br/><br/>Warnings:<br/>[1] Standard Errors assume that the covariance matrix of the errors is correctly specified."
      ],
      "text/plain": [
       "<class 'statsmodels.iolib.summary.Summary'>\n",
       "\"\"\"\n",
       "                            OLS Regression Results                            \n",
       "==============================================================================\n",
       "Dep. Variable:                    報酬率   R-squared:                       0.041\n",
       "Model:                            OLS   Adj. R-squared:                  0.040\n",
       "Method:                 Least Squares   F-statistic:                     39.22\n",
       "Date:                Sat, 05 Oct 2019   Prob (F-statistic):           8.20e-25\n",
       "Time:                        15:23:35   Log-Likelihood:                 12763.\n",
       "No. Observations:                2754   AIC:                        -2.552e+04\n",
       "Df Residuals:                    2751   BIC:                        -2.550e+04\n",
       "Df Model:                           3                                         \n",
       "Covariance Type:            nonrobust                                         \n",
       "==============================================================================\n",
       "                 coef    std err          t      P>|t|      [0.025      0.975]\n",
       "------------------------------------------------------------------------------\n",
       "Ret_d1        -0.2024      0.019    -10.541      0.000      -0.240      -0.165\n",
       "Ret_d2        -0.0707      0.019     -3.672      0.000      -0.108      -0.033\n",
       "Ret_d3         0.0157      0.018      0.849      0.396      -0.020       0.052\n",
       "==============================================================================\n",
       "Omnibus:                      667.873   Durbin-Watson:                   1.989\n",
       "Prob(Omnibus):                  0.000   Jarque-Bera (JB):            10218.727\n",
       "Skew:                           0.724   Prob(JB):                         0.00\n",
       "Kurtosis:                      12.325   Cond. No.                         1.31\n",
       "==============================================================================\n",
       "\n",
       "Warnings:\n",
       "[1] Standard Errors assume that the covariance matrix of the errors is correctly specified.\n",
       "\"\"\""
      ]
     },
     "execution_count": 1149,
     "metadata": {},
     "output_type": "execute_result"
    }
   ],
   "source": [
    "y=sltdata['報酬率']\n",
    "x=sltdata[['Ret_d1','Ret_d2','Ret_d3']]\n",
    "model = sm.OLS(y, x).fit()\n",
    "model.summary()#第一期顯著負相關,#第二期以後相關性低\n",
    "#跑多變量線性迴歸?"
   ]
  },
  {
   "cell_type": "code",
   "execution_count": null,
   "metadata": {},
   "outputs": [],
   "source": []
  },
  {
   "cell_type": "code",
   "execution_count": null,
   "metadata": {},
   "outputs": [],
   "source": []
  }
 ],
 "metadata": {
  "kernelspec": {
   "display_name": "Python 3",
   "language": "python",
   "name": "python3"
  },
  "language_info": {
   "codemirror_mode": {
    "name": "ipython",
    "version": 3
   },
   "file_extension": ".py",
   "mimetype": "text/x-python",
   "name": "python",
   "nbconvert_exporter": "python",
   "pygments_lexer": "ipython3",
   "version": "3.7.3"
  }
 },
 "nbformat": 4,
 "nbformat_minor": 2
}
